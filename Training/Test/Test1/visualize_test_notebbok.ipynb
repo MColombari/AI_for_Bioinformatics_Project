{
 "cells": [
  {
   "cell_type": "code",
   "execution_count": 1,
   "metadata": {},
   "outputs": [
    {
     "name": "stderr",
     "output_type": "stream",
     "text": [
      "/homes/mcolombari/.local/lib/python3.9/site-packages/torch/__config__.py:9: UserWarning: CUDA initialization: The NVIDIA driver on your system is too old (found version 11040). Please update your GPU driver by downloading and installing a new version from the URL: http://www.nvidia.com/Download/index.aspx Alternatively, go to: https://pytorch.org to install a PyTorch version that has been compiled with your version of the CUDA driver. (Triggered internally at ../c10/cuda/CUDAFunctions.cpp:108.)\n",
      "  return torch._C._show_config()\n"
     ]
    },
    {
     "name": "stdout",
     "output_type": "stream",
     "text": [
      "[(0, 1), (1, 2), (4, 2), (2, 3), (5, 3), (7, 3), (8, 3), (6, 4), (11, 4), (12, 4), (13, 33), (3, 42), (9, 45), (10, 666)]\n",
      "[0, 1, 0, 4, 0, 2, 0, 5, 0, 7, 0, 8, 1, 4, 1, 2, 1, 5, 1, 7, 1, 8, 1, 6, 1, 11, 1, 12, 4, 2, 4, 5, 4, 7, 4, 8, 4, 6, 4, 11, 4, 12, 2, 5, 2, 7, 2, 8, 2, 6, 2, 11, 2, 12, 5, 7, 5, 8, 5, 6, 5, 11, 5, 12, 7, 8, 7, 6, 7, 11, 7, 12, 8, 6, 8, 11, 8, 12, 6, 11, 6, 12, 11, 12]\n",
      "[1, 0, 4, 0, 2, 0, 5, 0, 7, 0, 8, 0, 4, 1, 2, 1, 5, 1, 7, 1, 8, 1, 6, 1, 11, 1, 12, 1, 2, 4, 5, 4, 7, 4, 8, 4, 6, 4, 11, 4, 12, 4, 5, 2, 7, 2, 8, 2, 6, 2, 11, 2, 12, 2, 7, 5, 8, 5, 6, 5, 11, 5, 12, 5, 8, 7, 6, 7, 11, 7, 12, 7, 6, 8, 11, 8, 12, 8, 11, 6, 12, 6, 12, 11]\n",
      "84\n",
      "14\n"
     ]
    },
    {
     "data": {
      "image/png": "[encoded data removed]",
      "text/plain": [
       "<Figure size 700x700 with 1 Axes>"
      ]
     },
     "metadata": {},
     "output_type": "display_data"
    }
   ],
   "source": [
    "import torch\n",
    "from torch_geometric.data import Data\n",
    "from torch_geometric.utils import to_networkx\n",
    "import networkx as nx\n",
    "from matplotlib import pyplot as plt\n",
    "\n",
    "# list_list[[], []]\n",
    "in_list = [1,2,3,42,2,3,4,3,3,45,666,4,4,33]\n",
    "t = 5\n",
    "x = list(zip(range(len(in_list)), in_list))\n",
    "\n",
    "x = sorted(x, key=lambda x: x[1])\n",
    "combinations = [[],[]]\n",
    "print(x)\n",
    "\n",
    "for i in range(len(x)):\n",
    "    for j in range(i+1, len(x)):\n",
    "        if(x[j][1] < x[i][1] + 3):\n",
    "            combinations[0].append(x[i][0])\n",
    "            combinations[0].append(x[j][0])\n",
    "            combinations[1].append(x[j][0])\n",
    "            combinations[1].append(x[i][0])\n",
    "        else:\n",
    "            break\n",
    "print(combinations[0])\n",
    "print(combinations[1])\n",
    "\n",
    "print(len(combinations[1]))\n",
    "print(len(x))\n",
    "\n",
    "edge_index = torch.tensor(combinations, dtype=torch.long)\n",
    "x = torch.tensor([list(a) for a in x], dtype=torch.float)\n",
    "\n",
    "data = Data(x=x, edge_index=edge_index)\n",
    "\n",
    "\n",
    "def visualize_graph(G, color):\n",
    "    plt.figure(figsize=(7,7))\n",
    "    plt.xticks([])\n",
    "    plt.yticks([])\n",
    "    nx.draw_networkx(G, pos=nx.spring_layout(G, seed=42), with_labels=False,\n",
    "                     node_color=color, cmap=\"Set2\")\n",
    "    plt.show()\n",
    " \n",
    " \n",
    "\n",
    "G = to_networkx(data, to_undirected=True)\n",
    "visualize_graph(G, color=data.y)"
   ]
  },
  {
   "cell_type": "code",
   "execution_count": 2,
   "metadata": {},
   "outputs": [],
   "source": [
    "import torch\n",
    "from torch_geometric.data import Data\n",
    "import json\n",
    "from pathlib import Path\n",
    "import os\n",
    "import pandas as pd\n",
    "from torch_geometric.utils import to_networkx\n",
    "import networkx as nx\n",
    "from matplotlib import pyplot as plt\n",
    "\n",
    "path_white_list = \"/homes/mcolombari/AI_for_Bioinformatics_Project/Preprocessing/Tests/Case_Id_Intersection/Test_3/white_list.json\"\n",
    "path_gene_expression_json = \"/homes/mcolombari/AI_for_Bioinformatics_Project/Preprocessing/Tests/Case_Id_Intersection/Test_3/GeneExpressionWithoutSolidTissue.json\"\n",
    "path_data = \"/work/h2020deciderficarra_shared/TCGA/OV/project_n16_data/GeneExpression\"\n",
    "path_relation = \"/homes/mcolombari/AI_for_Bioinformatics_Project/Preprocessing/Final/case_id_to_value_relation.json\"\n",
    "\n",
    "\n",
    "# Load case ID from white list\n",
    "white_list = []\n",
    "with open(path_white_list, 'r') as file:\n",
    "    file_parsed = json.load(file)\n",
    "    for case_id in file_parsed:\n",
    "        white_list.append(case_id)\n",
    "\n",
    "# Load file name relative to case id in json file in gene expression.\n",
    "dict_file_name_to_case_id_relation = {}\n",
    "file_names = []\n",
    "with open(path_gene_expression_json, 'r') as file:\n",
    "    file_parsed = json.load(file)\n",
    "    for case in file_parsed:\n",
    "        case_id = case[\"cases\"][0][\"case_id\"]\n",
    "        if case_id in white_list:\n",
    "            dict_file_name_to_case_id_relation[case['file_name']] = case_id\n",
    "            file_names.append(case[\"file_name\"])\n",
    "\n",
    "\n",
    "with open(path_relation, 'r') as file:\n",
    "    dict_relation = json.load(file)\n",
    "\n",
    "count = 0\n",
    "list_list_featurevectors = []\n",
    "list_y = []\n",
    "# Now explore data path to get the right files\n",
    "for root, dirs, files in os.walk(path_data):\n",
    "    for dir in dirs:\n",
    "        for root, dirs, files in os.walk(path_data + \"/\" + dir):\n",
    "            for file in files:\n",
    "                if file in file_names:\n",
    "                    case_id = dict_file_name_to_case_id_relation[file]\n",
    "                    if dict_relation[case_id]['type'] == 'dead':\n",
    "                        # Parse file into graph\n",
    "                        parsed_file = pd.read_csv(path_data + \"/\" + dir + \"/\" + file, sep='\\t', comment=\"#\", skiprows=[2, 3, 4, 5])\n",
    "                        \n",
    "                        list_y.append(int(dict_relation[dict_file_name_to_case_id_relation[file]]['value']))\n",
    "                        list_list_featurevectors.append(list(parsed_file['tpm_unstranded']))\n",
    "                        count = count + 1\n",
    "                        # print(count)\n",
    "                    # print(file_names)\n",
    "\n",
    "\n",
    "    \n"
   ]
  },
  {
   "cell_type": "code",
   "execution_count": 3,
   "metadata": {},
   "outputs": [
    {
     "name": "stdout",
     "output_type": "stream",
     "text": [
      "[(190, 8), (97, 9), (105, 9), (131, 11), (172, 23), (4, 24), (189, 25), (217, 31), (220, 31), (52, 36), (149, 53), (110, 61), (207, 61), (89, 65), (138, 74), (174, 75), (6, 83), (98, 84), (124, 90), (187, 91), (65, 92), (20, 129), (209, 138), (28, 186), (3, 189), (121, 197), (153, 204), (48, 260), (103, 286), (160, 304), (168, 312), (148, 336), (176, 346), (64, 351), (76, 354), (69, 361), (195, 365), (179, 377), (14, 379), (126, 394), (62, 395), (109, 396), (132, 446), (152, 455), (30, 457), (49, 462), (216, 479), (79, 493), (46, 506), (17, 515), (147, 518), (44, 524), (106, 528), (211, 542), (188, 547), (80, 555), (19, 562), (119, 563), (54, 565), (91, 568), (0, 583), (78, 594), (13, 608), (55, 608), (154, 608), (66, 627), (115, 629), (208, 629), (24, 636), (150, 637), (204, 637), (141, 663), (16, 676), (113, 676), (59, 679), (84, 679), (203, 681), (192, 690), (51, 695), (56, 701), (93, 728), (35, 730), (37, 731), (34, 737), (81, 760), (212, 787), (23, 788), (68, 820), (73, 820), (67, 821), (31, 840), (57, 857), (11, 863), (9, 871), (137, 883), (169, 885), (43, 887), (128, 895), (50, 914), (53, 919), (42, 949), (75, 949), (213, 949), (108, 951), (144, 952), (218, 962), (173, 976), (182, 1000), (129, 1004), (191, 1018), (12, 1024), (224, 1024), (99, 1032), (164, 1033), (145, 1046), (161, 1058), (107, 1059), (133, 1064), (221, 1069), (102, 1073), (82, 1082), (26, 1089), (32, 1091), (122, 1102), (185, 1102), (25, 1103), (15, 1104), (177, 1106), (117, 1114), (63, 1123), (197, 1155), (183, 1157), (222, 1158), (70, 1161), (167, 1162), (7, 1163), (206, 1169), (60, 1187), (118, 1189), (95, 1199), (22, 1213), (27, 1229), (193, 1247), (71, 1249), (157, 1259), (196, 1264), (127, 1266), (175, 1278), (140, 1279), (45, 1319), (205, 1324), (198, 1329), (94, 1336), (77, 1341), (170, 1348), (92, 1354), (184, 1354), (5, 1355), (166, 1364), (111, 1366), (201, 1369), (163, 1380), (159, 1384), (139, 1442), (85, 1446), (225, 1446), (86, 1448), (146, 1451), (186, 1470), (219, 1483), (21, 1484), (214, 1484), (156, 1492), (41, 1499), (143, 1511), (47, 1516), (158, 1562), (40, 1579), (123, 1579), (83, 1583), (120, 1583), (104, 1620), (114, 1646), (38, 1662), (8, 1688), (180, 1699), (90, 1720), (155, 1721), (215, 1736), (181, 1746), (151, 1757), (134, 1767), (136, 1769), (100, 1799), (2, 1815), (96, 1875), (210, 1877), (33, 1891), (171, 1933), (74, 1946), (87, 1947), (10, 1955), (72, 1977), (178, 2028), (18, 2049), (223, 2089), (29, 2097), (135, 2148), (165, 2154), (58, 2218), (130, 2342), (36, 2400), (112, 2467), (88, 2490), (142, 2561), (101, 2634), (125, 2648), (61, 2688), (39, 2692), (199, 2717), (116, 2742), (162, 3224), (202, 3260), (194, 3337), (200, 3622), (1, 4624)]\n"
     ]
    },
    {
     "data": {
      "image/png": "[encoded data removed]",
      "text/plain": [
       "<Figure size 700x700 with 1 Axes>"
      ]
     },
     "metadata": {},
     "output_type": "display_data"
    }
   ],
   "source": [
    "x = list(zip(range(len(list_y)), list_y))\n",
    "\n",
    "x = sorted(x, key=lambda x: x[1])\n",
    "combinations = [[],[]]\n",
    "print(x)\n",
    "\n",
    "for i in range(len(x)):\n",
    "    for j in range(i+1, len(x)):\n",
    "        if(x[j][1] <= x[i][1] + 30):\n",
    "            combinations[0].append(x[i][0])\n",
    "            combinations[0].append(x[j][0])\n",
    "            combinations[1].append(x[j][0])\n",
    "            combinations[1].append(x[i][0])\n",
    "        else:\n",
    "            break\n",
    "                    \n",
    "edge_index = torch.tensor(combinations, dtype=torch.long)\n",
    "x = torch.tensor(list_list_featurevectors, dtype=torch.float)\n",
    "\n",
    "data = Data(x=x, edge_index=edge_index)\n",
    "\n",
    "def visualize_graph(G, color):\n",
    "    plt.figure(figsize=(7,7))\n",
    "    plt.xticks([])\n",
    "    plt.yticks([])\n",
    "    nx.draw_networkx(G, pos=nx.spring_layout(G, seed=42), with_labels=False,\n",
    "                    node_color=color, cmap=\"Set2\")\n",
    "    plt.show()\n",
    "\n",
    "\n",
    "\n",
    "G = to_networkx(data, to_undirected=True)\n",
    "visualize_graph(G, color=data.y)"
   ]
  },
  {
   "cell_type": "code",
   "execution_count": 4,
   "metadata": {},
   "outputs": [
    {
     "name": "stdout",
     "output_type": "stream",
     "text": [
      "Num nodes: 226\n",
      "Num edge: 1364\n",
      "Num feature: 60660\n",
      "Num isolated noded: True\n",
      "Num self loops: False\n",
      "Num directed: False\n"
     ]
    }
   ],
   "source": [
    "print(f\"Num nodes: {data.num_nodes}\")\n",
    "print(f\"Num edge: {data.num_edges}\")\n",
    "print(f\"Num feature: {data.num_node_features}\")\n",
    "print(f\"Num isolated noded: {data.has_isolated_nodes()}\")\n",
    "print(f\"Num self loops: {data.has_self_loops()}\")\n",
    "print(f\"Num directed: {data.is_directed()}\")"
   ]
  },
  {
   "cell_type": "code",
   "execution_count": 5,
   "metadata": {},
   "outputs": [
    {
     "name": "stdout",
     "output_type": "stream",
     "text": [
      "4624\n",
      "49\n"
     ]
    }
   ],
   "source": [
    "# Class division in 150.\n",
    "import math\n",
    "\n",
    "class_number = 50\n",
    "\n",
    "print(max(list_y))\n",
    "\n",
    "interval = math.ceil(max(list_y) / class_number)\n",
    "\n",
    "# 31 / 30 = 1\n",
    "# [z *  interval, (z + 1) * interval]\n",
    "\n",
    "new_list_y = [math.floor(y / interval) for y in list_y]\n",
    "\n",
    "data.num_classes = class_number\n",
    "data.y = torch.tensor(new_list_y, dtype=torch.float32).reshape((226, 1))\n",
    "\n",
    "print(max(new_list_y))"
   ]
  },
  {
   "cell_type": "code",
   "execution_count": 6,
   "metadata": {},
   "outputs": [],
   "source": [
    "import torch.nn.functional as F\n",
    "from torch_geometric.nn import GCNConv\n",
    "\n",
    "class GCN(torch.nn.Module):\n",
    "    def __init__(self):\n",
    "        super().__init__()\n",
    "        self.conv1 = GCNConv(data.num_node_features, 30000)\n",
    "        self.conv2 = GCNConv(30000, 10000)\n",
    "        self.linear1 = torch.nn.Linear(10000,1)\n",
    "\n",
    "    def forward(self, data):\n",
    "        x, edge_index = data.x, data.edge_index\n",
    "\n",
    "        x = self.conv1(x, edge_index)\n",
    "        x = F.relu(x)\n",
    "        x = F.dropout(x, training=self.training)\n",
    "        x = self.conv2(x, edge_index)\n",
    "        x = self.linear1(x)\n",
    "\n",
    "        return x"
   ]
  },
  {
   "cell_type": "code",
   "execution_count": 7,
   "metadata": {},
   "outputs": [
    {
     "name": "stdout",
     "output_type": "stream",
     "text": [
      "Epoch number 0\n"
     ]
    }
   ],
   "source": [
    "device = torch.device('cuda' if torch.cuda.is_available() else 'cpu')\n",
    "model = GCN().to(device)\n",
    "data = data.to(device)\n",
    "optimizer = torch.optim.Adam(model.parameters(), lr=0.01, weight_decay=5e-4)\n",
    "\n",
    "model.train()\n",
    "for epoch in range(1):\n",
    "    optimizer.zero_grad()\n",
    "    out = model(data)\n",
    "    loss = F.mse_loss(out, data.y)\n",
    "    loss.backward()\n",
    "    optimizer.step()\n",
    "    print(f\"Epoch number {epoch}\")"
   ]
  },
  {
   "cell_type": "code",
   "execution_count": null,
   "metadata": {},
   "outputs": [
    {
     "name": "stdout",
     "output_type": "stream",
     "text": [
      "Accuracy 1: 2540.0000\n",
      "Accuracy 1: 43352.0000\n"
     ]
    }
   ],
   "source": [
    "model.eval()\n",
    "pred = model(data).argmax(dim=1)\n",
    "acc_1 = int(((torch.abs(pred - data.y))).sum()) / len(list_y)\n",
    "acc_2 = int((torch.pow((pred - data.y), 2)).sum()) / len(list_y)\n",
    "print(f'ME: {acc_1:.4f}')\n",
    "print(f'MSE: {acc_2:.4f}')"
   ]
  },
  {
   "cell_type": "code",
   "execution_count": null,
   "metadata": {},
   "outputs": [],
   "source": []
  }
 ],
 "metadata": {
  "kernelspec": {
   "display_name": "Python 3",
   "language": "python",
   "name": "python3"
  },
  "language_info": {
   "codemirror_mode": {
    "name": "ipython",
    "version": 3
   },
   "file_extension": ".py",
   "mimetype": "text/x-python",
   "name": "python",
   "nbconvert_exporter": "python",
   "pygments_lexer": "ipython3",
   "version": "3.10.12"
  }
 },
 "nbformat": 4,
 "nbformat_minor": 2
}
