{
 "cells": [
  {
   "cell_type": "code",
   "execution_count": null,
   "metadata": {
    "vscode": {
     "languageId": "plaintext"
    }
   },
   "outputs": [],
   "source": [
    "import pandas as pd\n",
    "from matplotlib import pyplot as plt\n",
    "from pathlib import Path\n",
    "import re\n",
    "import xml.etree.ElementTree as ET\n",
    "import seaborn as sns\n",
    "\n",
    "with open(FILE_PATH_DICT['os'], 'r') as file:\n",
    "    file_parsed = json.load(file)\n",
    "    for case in file_parsed:\n",
    "        case_id = case[\"cases\"][0][\"case_id\"]\n",
    "        if case_id in intersection_of_case_id:\n",
    "            save_file_to_id_relation[case['file_name']] = case_id\n",
    "            list_file_name_white_list.append(case['file_name'])"
   ]
  }
 ],
 "metadata": {
  "language_info": {
   "name": "python"
  }
 },
 "nbformat": 4,
 "nbformat_minor": 2
}
