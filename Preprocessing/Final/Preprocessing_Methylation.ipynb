{
 "cells": [
  {
   "cell_type": "code",
   "execution_count": 1,
   "metadata": {},
   "outputs": [],
   "source": [
    "import pandas as pd\n",
    "from matplotlib import pyplot as plt\n",
    "from pathlib import Path\n",
    "import json\n",
    "import os"
   ]
  },
  {
   "cell_type": "code",
   "execution_count": 2,
   "metadata": {},
   "outputs": [],
   "source": [
    "PATH_METHYLATION = \"/work/h2020deciderficarra_shared/TCGA/OV/project_n16_data/Methylation\"\n",
    "FILE_PATH_DICT = \"case_id_and_structure.json\""
   ]
  },
  {
   "cell_type": "code",
   "execution_count": 3,
   "metadata": {},
   "outputs": [],
   "source": [
    "with open(FILE_PATH_DICT, 'r') as file:\n",
    "    file_parsed = json.load(file)\n",
    "methylation_folder_list = []\n",
    "for key in file_parsed.keys():\n",
    "    methylation_folder_list.append(file_parsed[key][\"files\"][\"methylation\"])   "
   ]
  },
  {
   "cell_type": "code",
   "execution_count": 4,
   "metadata": {},
   "outputs": [],
   "source": [
    "list_df_Met = []\n",
    "number_of_rows = []\n",
    "for root, dirs, files in os.walk(PATH_METHYLATION):\n",
    "    for dir in dirs:\n",
    "        for root, dirs, files in os.walk(PATH_METHYLATION + \"/\" + dir):\n",
    "            for file in files:\n",
    "                if file in methylation_folder_list:\n",
    "                    list_df_Met.append(pd.read_csv(PATH_METHYLATION + \"/\" + dir + \"/\" + file, sep='\\t', header= None, names= [\"id\", \"methylation\"]))\n",
    "                    with open(PATH_METHYLATION + \"/\" + dir + \"/\" + file, 'r') as fp:\n",
    "                        lines = len(fp.readlines())\n",
    "                        number_of_rows.append(int(lines))\n",
    "\n",
    "methylation = pd.Series(number_of_rows)\n"
   ]
  },
  {
   "cell_type": "code",
   "execution_count": 5,
   "metadata": {},
   "outputs": [
    {
     "data": {
      "image/png": "[encoded data removed]",
      "text/plain": [
       "<Figure size 1000x600 with 1 Axes>"
      ]
     },
     "metadata": {},
     "output_type": "display_data"
    }
   ],
   "source": [
    "import seaborn as sns\n",
    "\n",
    "plt.figure(figsize=(10, 6))\n",
    "sns.histplot(methylation, bins=50, kde=True, color=\"red\")\n",
    "plt.title(\"Distribution of \\'Days to Death\\'\", fontsize=16)\n",
    "plt.xlabel(\"Days\", fontsize=14)\n",
    "plt.ylabel(\"Ammount per day\", fontsize=14)\n",
    "plt.grid(axis='y', linestyle='--', alpha=0.7)\n",
    "plt.show()"
   ]
  },
  {
   "cell_type": "code",
   "execution_count": 6,
   "metadata": {},
   "outputs": [
    {
     "name": "stdout",
     "output_type": "stream",
     "text": [
      "27578\n",
      "27578\n"
     ]
    }
   ],
   "source": [
    "print(methylation.max())\n",
    "print(methylation.min())"
   ]
  },
  {
   "cell_type": "code",
   "execution_count": 7,
   "metadata": {},
   "outputs": [
    {
     "name": "stdout",
     "output_type": "stream",
     "text": [
      "<class 'dict'>\n",
      "c3f5ce9a-9138-4ef2-ae07-3c6985595aa9.methylation_array.sesame.level3betas.txt    [9, 22, 46, 54, 55, 58, 60, 69, 83, 88, 102, 1...\n",
      "8d2a609e-c2c3-4519-ae30-c7b6330c2c71.methylation_array.sesame.level3betas.txt    [9, 22, 46, 54, 55, 58, 60, 69, 83, 88, 102, 1...\n",
      "d4292db8-ecae-4127-9989-0e7e9ee9d3ec.methylation_array.sesame.level3betas.txt    [9, 22, 39, 46, 50, 54, 55, 58, 60, 69, 83, 88...\n",
      "287e60d5-8f5d-4604-98ac-f771fca970fb.methylation_array.sesame.level3betas.txt    [9, 22, 46, 54, 55, 58, 60, 69, 83, 88, 102, 1...\n",
      "e0b5c688-22c0-4c9a-b52d-9e9394449886.methylation_array.sesame.level3betas.txt    [9, 22, 46, 50, 54, 55, 58, 60, 69, 83, 88, 10...\n",
      "                                                                                                       ...                        \n",
      "49b80937-9772-45fe-89b9-c46d0eabbe94.methylation_array.sesame.level3betas.txt    [9, 22, 46, 50, 54, 55, 58, 60, 69, 83, 88, 10...\n",
      "9855b9f1-6c59-4fe1-ba86-8fd94a95f63c.methylation_array.sesame.level3betas.txt    [9, 22, 46, 54, 55, 58, 60, 69, 83, 88, 102, 1...\n",
      "1327ac1a-8743-4c51-85eb-fa4f04ca14c9.methylation_array.sesame.level3betas.txt    [9, 22, 39, 46, 50, 54, 55, 58, 60, 69, 83, 88...\n",
      "0a47157f-f490-4ca0-a6ba-b97435d80413.methylation_array.sesame.level3betas.txt    [9, 22, 46, 54, 55, 58, 60, 69, 83, 88, 102, 1...\n",
      "55904868-b373-4449-ac92-ce77820c4e37.methylation_array.sesame.level3betas.txt    [9, 22, 46, 54, 55, 58, 60, 69, 83, 88, 100, 1...\n",
      "Length: 226, dtype: object\n",
      "226\n",
      "727026\n",
      "6232628\n",
      "0.11664838652330926\n"
     ]
    }
   ],
   "source": [
    "# Lista che conterrà le posizioni dei NaN per ogni file\n",
    "list_of_NaN = {}\n",
    "count = 0\n",
    "count_record = 0\n",
    "# Cammina nella directory\n",
    "for root, dirs, files in os.walk(PATH_METHYLATION):\n",
    "    for file in files:\n",
    "        # Controlla se il file è nella lista specificata\n",
    "        if file in methylation_folder_list:\n",
    "            file_path = os.path.join(root, file)\n",
    "            # Apri il file e leggi riga per riga\n",
    "            with open(file_path, 'r') as fp:\n",
    "                lines = fp.readlines()\n",
    "            # Cerca \"NA\" in ogni riga e salva la posizione\n",
    "            nan_positions = []\n",
    "            for i, line in enumerate(lines):\n",
    "                count_record = count_record +1\n",
    "                if \"NA\" in line:  # Verifica se \"NA\" è presente nella riga\n",
    "                    nan_positions.append(i)\n",
    "                    count = count +1\n",
    "            # Aggiungi alla lista di liste\n",
    "            list_of_NaN[file] = nan_positions\n",
    "\n",
    "# Trasforma la lista in una serie di pandas per un'analisi più semplice\n",
    "methylation = pd.Series(list_of_NaN)\n",
    "\n",
    "# Stampa i risultati\n",
    "print(type(list_of_NaN))\n",
    "print(methylation)\n",
    "print(len(list_of_NaN))\n",
    "print(count)\n",
    "print(count_record)\n",
    "print(count/count_record)\n",
    "\n"
   ]
  },
  {
   "cell_type": "code",
   "execution_count": 8,
   "metadata": {},
   "outputs": [
    {
     "name": "stdout",
     "output_type": "stream",
     "text": [
      "Riga 1: 77 valori NA\n",
      "Riga 2: 77 valori NA\n",
      "Riga 3: 77 valori NA\n",
      "Riga 4: 77 valori NA\n",
      "Riga 5: 77 valori NA\n",
      "Riga 6: 77 valori NA\n",
      "Riga 7: 77 valori NA\n",
      "Riga 8: 77 valori NA\n",
      "Riga 9: 77 valori NA\n",
      "Riga 10: 77 valori NA\n",
      "Riga 11: 77 valori NA\n",
      "Riga 12: 77 valori NA\n",
      "Riga 13: 77 valori NA\n",
      "Riga 14: 77 valori NA\n",
      "Riga 15: 77 valori NA\n",
      "Riga 16: 77 valori NA\n",
      "Riga 17: 77 valori NA\n",
      "Riga 18: 77 valori NA\n",
      "Riga 19: 77 valori NA\n",
      "Riga 20: 77 valori NA\n",
      "Riga 21: 77 valori NA\n",
      "Riga 22: 77 valori NA\n",
      "Riga 23: 77 valori NA\n",
      "Riga 24: 77 valori NA\n",
      "Riga 25: 77 valori NA\n",
      "Riga 26: 77 valori NA\n",
      "Riga 27: 77 valori NA\n",
      "Riga 28: 77 valori NA\n",
      "Riga 29: 77 valori NA\n",
      "Riga 30: 77 valori NA\n",
      "Riga 31: 77 valori NA\n",
      "Riga 32: 77 valori NA\n",
      "Riga 33: 77 valori NA\n",
      "Riga 34: 77 valori NA\n",
      "Riga 35: 77 valori NA\n",
      "Riga 36: 77 valori NA\n",
      "Riga 37: 77 valori NA\n",
      "Riga 38: 77 valori NA\n",
      "Riga 39: 77 valori NA\n",
      "Riga 40: 77 valori NA\n",
      "Riga 41: 77 valori NA\n",
      "Riga 42: 77 valori NA\n",
      "Riga 43: 77 valori NA\n",
      "Riga 44: 77 valori NA\n",
      "Riga 45: 77 valori NA\n",
      "Riga 46: 77 valori NA\n",
      "Riga 47: 77 valori NA\n",
      "Riga 48: 77 valori NA\n",
      "Riga 49: 77 valori NA\n",
      "Riga 50: 77 valori NA\n",
      "Riga 51: 77 valori NA\n",
      "Riga 52: 77 valori NA\n",
      "Riga 53: 77 valori NA\n",
      "Riga 54: 77 valori NA\n",
      "Riga 55: 77 valori NA\n",
      "Riga 56: 77 valori NA\n",
      "Riga 57: 77 valori NA\n",
      "Riga 58: 77 valori NA\n",
      "Riga 59: 77 valori NA\n",
      "Riga 60: 77 valori NA\n",
      "Riga 61: 77 valori NA\n",
      "Riga 62: 77 valori NA\n",
      "Riga 63: 77 valori NA\n",
      "Riga 64: 77 valori NA\n",
      "Riga 65: 77 valori NA\n",
      "Riga 66: 77 valori NA\n",
      "Riga 67: 77 valori NA\n",
      "Riga 68: 77 valori NA\n",
      "Riga 69: 77 valori NA\n",
      "Riga 70: 77 valori NA\n",
      "Riga 71: 77 valori NA\n",
      "Riga 72: 77 valori NA\n",
      "Riga 73: 77 valori NA\n",
      "Riga 74: 77 valori NA\n",
      "Riga 75: 77 valori NA\n",
      "Riga 76: 77 valori NA\n",
      "Riga 77: 77 valori NA\n",
      "Riga 78: 77 valori NA\n",
      "Riga 79: 77 valori NA\n",
      "Riga 80: 77 valori NA\n",
      "Riga 81: 77 valori NA\n",
      "Riga 82: 77 valori NA\n",
      "Riga 83: 77 valori NA\n",
      "Riga 84: 77 valori NA\n",
      "Riga 85: 77 valori NA\n",
      "Riga 86: 77 valori NA\n",
      "Riga 87: 77 valori NA\n",
      "Riga 88: 77 valori NA\n",
      "Riga 89: 77 valori NA\n",
      "Riga 90: 77 valori NA\n",
      "Riga 91: 77 valori NA\n",
      "Riga 92: 77 valori NA\n",
      "Riga 93: 77 valori NA\n",
      "Riga 94: 77 valori NA\n",
      "Riga 95: 77 valori NA\n",
      "Riga 96: 77 valori NA\n",
      "Riga 97: 77 valori NA\n",
      "Riga 98: 77 valori NA\n",
      "Riga 99: 77 valori NA\n",
      "Riga 100: 77 valori NA\n",
      "Riga 101: 77 valori NA\n",
      "Riga 102: 77 valori NA\n",
      "Riga 103: 77 valori NA\n",
      "Riga 104: 77 valori NA\n",
      "Riga 105: 77 valori NA\n",
      "Riga 106: 77 valori NA\n",
      "Riga 107: 77 valori NA\n",
      "Riga 108: 77 valori NA\n",
      "Riga 109: 77 valori NA\n",
      "Riga 110: 77 valori NA\n",
      "Riga 111: 77 valori NA\n",
      "Riga 112: 77 valori NA\n",
      "Riga 113: 77 valori NA\n",
      "Riga 114: 77 valori NA\n",
      "Riga 115: 77 valori NA\n",
      "Riga 116: 77 valori NA\n",
      "Riga 117: 77 valori NA\n",
      "Riga 118: 77 valori NA\n",
      "Riga 119: 77 valori NA\n",
      "Riga 120: 77 valori NA\n",
      "Riga 121: 77 valori NA\n",
      "Riga 122: 77 valori NA\n",
      "Riga 123: 77 valori NA\n",
      "Riga 124: 77 valori NA\n",
      "Riga 125: 77 valori NA\n",
      "Riga 126: 77 valori NA\n",
      "Riga 127: 77 valori NA\n",
      "Riga 128: 77 valori NA\n",
      "Riga 129: 77 valori NA\n",
      "Riga 130: 77 valori NA\n",
      "Riga 131: 77 valori NA\n",
      "Riga 132: 77 valori NA\n",
      "Riga 133: 77 valori NA\n",
      "Riga 134: 77 valori NA\n",
      "Riga 135: 77 valori NA\n",
      "Riga 136: 77 valori NA\n",
      "Riga 137: 77 valori NA\n",
      "Riga 138: 77 valori NA\n",
      "Riga 139: 77 valori NA\n",
      "Riga 140: 77 valori NA\n",
      "Riga 141: 77 valori NA\n",
      "Riga 142: 77 valori NA\n",
      "Riga 143: 77 valori NA\n",
      "Riga 144: 77 valori NA\n",
      "Riga 145: 77 valori NA\n",
      "Riga 146: 77 valori NA\n",
      "Riga 147: 77 valori NA\n",
      "Riga 148: 77 valori NA\n",
      "Riga 149: 77 valori NA\n",
      "Riga 150: 77 valori NA\n",
      "Riga 151: 77 valori NA\n",
      "Riga 152: 77 valori NA\n",
      "Riga 153: 77 valori NA\n",
      "Riga 154: 77 valori NA\n",
      "Riga 155: 77 valori NA\n",
      "Riga 156: 77 valori NA\n",
      "Riga 157: 77 valori NA\n",
      "Riga 158: 77 valori NA\n",
      "Riga 159: 77 valori NA\n",
      "Riga 160: 77 valori NA\n",
      "Riga 161: 77 valori NA\n",
      "Riga 162: 77 valori NA\n",
      "Riga 163: 77 valori NA\n",
      "Riga 164: 77 valori NA\n",
      "Riga 165: 77 valori NA\n",
      "Riga 166: 77 valori NA\n",
      "Riga 167: 77 valori NA\n",
      "Riga 168: 77 valori NA\n",
      "Riga 169: 77 valori NA\n",
      "Riga 170: 77 valori NA\n",
      "Riga 171: 77 valori NA\n",
      "Riga 172: 77 valori NA\n",
      "Riga 173: 77 valori NA\n",
      "Riga 174: 77 valori NA\n",
      "Riga 175: 77 valori NA\n",
      "Riga 176: 77 valori NA\n",
      "Riga 177: 77 valori NA\n",
      "Riga 178: 77 valori NA\n",
      "Riga 179: 77 valori NA\n",
      "Riga 180: 77 valori NA\n",
      "Riga 181: 77 valori NA\n",
      "Riga 182: 77 valori NA\n",
      "Riga 183: 77 valori NA\n",
      "Riga 184: 77 valori NA\n",
      "Riga 185: 77 valori NA\n",
      "Riga 186: 77 valori NA\n",
      "Riga 187: 77 valori NA\n",
      "Riga 188: 77 valori NA\n",
      "Riga 189: 77 valori NA\n",
      "Riga 190: 77 valori NA\n",
      "Riga 191: 77 valori NA\n",
      "Riga 192: 77 valori NA\n",
      "Riga 193: 77 valori NA\n",
      "Riga 194: 77 valori NA\n",
      "Riga 195: 77 valori NA\n",
      "Riga 196: 77 valori NA\n",
      "Riga 197: 77 valori NA\n",
      "Riga 198: 77 valori NA\n",
      "Riga 199: 77 valori NA\n",
      "Riga 200: 77 valori NA\n",
      "Riga 201: 77 valori NA\n",
      "Riga 202: 77 valori NA\n",
      "Riga 203: 77 valori NA\n",
      "Riga 204: 77 valori NA\n",
      "Riga 205: 77 valori NA\n",
      "Riga 206: 77 valori NA\n",
      "Riga 207: 77 valori NA\n",
      "Riga 208: 77 valori NA\n",
      "Riga 209: 77 valori NA\n",
      "Riga 210: 77 valori NA\n",
      "Riga 211: 77 valori NA\n",
      "Riga 212: 77 valori NA\n",
      "Riga 213: 77 valori NA\n",
      "Riga 214: 77 valori NA\n",
      "Riga 215: 77 valori NA\n",
      "Riga 216: 77 valori NA\n",
      "Riga 217: 77 valori NA\n",
      "Riga 218: 77 valori NA\n",
      "Riga 219: 77 valori NA\n",
      "Riga 220: 77 valori NA\n",
      "Riga 221: 77 valori NA\n",
      "Riga 222: 77 valori NA\n",
      "Riga 223: 77 valori NA\n",
      "Riga 224: 77 valori NA\n",
      "Riga 225: 77 valori NA\n",
      "Riga 226: 77 valori NA\n"
     ]
    }
   ],
   "source": [
    "for idx, file in enumerate(list_of_NaN):\n",
    "    count_na = len(file)\n",
    "    print(f\"Riga {idx + 1}: {count_na} valori NA\")"
   ]
  },
  {
   "cell_type": "code",
   "execution_count": 12,
   "metadata": {},
   "outputs": [
    {
     "name": "stdout",
     "output_type": "stream",
     "text": [
      "               id  methylation\n",
      "0      cg00000292     0.716561\n",
      "1      cg00002426     0.050503\n",
      "2      cg00003994     0.016429\n",
      "3      cg00005847     0.885254\n",
      "4      cg00006414     0.033973\n",
      "...           ...          ...\n",
      "27573  cg27657283     0.022251\n",
      "27574  cg27661264     0.167516\n",
      "27575  cg27662379     0.014776\n",
      "27576  cg27662877     0.022849\n",
      "27577  cg27665659     0.011848\n",
      "\n",
      "[27578 rows x 2 columns]\n"
     ]
    }
   ],
   "source": []
  },
  {
   "cell_type": "code",
   "execution_count": null,
   "metadata": {},
   "outputs": [
    {
     "name": "stdout",
     "output_type": "stream",
     "text": [
      "8239\n",
      "               id  methylation\n",
      "0      cg00000292     0.716561\n",
      "1      cg00002426     0.050503\n",
      "2      cg00003994     0.016429\n",
      "3      cg00005847     0.885254\n",
      "4      cg00006414     0.033973\n",
      "...           ...          ...\n",
      "27573  cg27657283     0.022251\n",
      "27574  cg27661264     0.167516\n",
      "27575  cg27662379     0.014776\n",
      "27576  cg27662877     0.022849\n",
      "27577  cg27665659     0.011848\n",
      "\n",
      "[24935 rows x 2 columns]\n"
     ]
    }
   ],
   "source": [
    "#parte che va a eliminare le righe\n",
    "entire_list_of_Nan = set()\n",
    "for k in list_of_NaN.keys():\n",
    "    for j in range(len(list_of_NaN[k])):\n",
    "        entire_list_of_Nan.add(list_of_NaN[k][j])\n",
    "\n",
    "print(len(entire_list_of_Nan))\n",
    "\n",
    "list_df_Met_without_na = [] #lista dataframe senza le righe Nan\n",
    "\n",
    "for i in range(len(list_df_Met)):\n",
    "    list_df_Met_without_na.append(list_df_Met[i].dropna())\n",
    "\n",
    "print(list_df_Met_without_na[0])\n",
    "#print(list_df_Met_without_na[0].head())"
   ]
  },
  {
   "cell_type": "code",
   "execution_count": null,
   "metadata": {},
   "outputs": [],
   "source": [
    "#parte che va a sostituire tutti i NaN con 0\n",
    "list_df_Met_0_filled = [] #lista dataframe con righe Nan =0\n",
    "for i in range(len(list_df_Met)):\n",
    "    list_df_Met_0_filled.append(list_df_Met[i].fillna(0))\n",
    "\n",
    "print(list_df_Met_0_filled[0])\n",
    "#print(list_df_Met_0_filled[0].head())"
   ]
  },
  {
   "cell_type": "markdown",
   "metadata": {},
   "source": [
    "# Create Graph"
   ]
  },
  {
   "cell_type": "code",
   "execution_count": 35,
   "metadata": {},
   "outputs": [
    {
     "ename": "ModuleNotFoundError",
     "evalue": "No module named 'torch_geometric'",
     "output_type": "error",
     "traceback": [
      "\u001b[0;31m---------------------------------------------------------------------------\u001b[0m",
      "\u001b[0;31mModuleNotFoundError\u001b[0m                       Traceback (most recent call last)",
      "\u001b[0;32m/tmp/ipykernel_2816467/567457215.py\u001b[0m in \u001b[0;36m<module>\u001b[0;34m\u001b[0m\n\u001b[1;32m      1\u001b[0m \u001b[0;32mimport\u001b[0m \u001b[0mnetworkx\u001b[0m \u001b[0;32mas\u001b[0m \u001b[0mnx\u001b[0m\u001b[0;34m\u001b[0m\u001b[0;34m\u001b[0m\u001b[0m\n\u001b[0;32m----> 2\u001b[0;31m \u001b[0;32mfrom\u001b[0m \u001b[0mtorch_geometric\u001b[0m\u001b[0;34m.\u001b[0m\u001b[0mdata\u001b[0m \u001b[0;32mimport\u001b[0m \u001b[0mData\u001b[0m\u001b[0;34m\u001b[0m\u001b[0;34m\u001b[0m\u001b[0m\n\u001b[0m\u001b[1;32m      3\u001b[0m \u001b[0;32mfrom\u001b[0m \u001b[0mtorch_geometric\u001b[0m\u001b[0;34m.\u001b[0m\u001b[0mutils\u001b[0m \u001b[0;32mimport\u001b[0m \u001b[0mto_networkx\u001b[0m\u001b[0;34m\u001b[0m\u001b[0;34m\u001b[0m\u001b[0m\n\u001b[1;32m      4\u001b[0m \u001b[0;32mfrom\u001b[0m \u001b[0mmatplotlib\u001b[0m \u001b[0;32mimport\u001b[0m \u001b[0mpyplot\u001b[0m \u001b[0;32mas\u001b[0m \u001b[0mplt\u001b[0m\u001b[0;34m\u001b[0m\u001b[0;34m\u001b[0m\u001b[0m\n\u001b[1;32m      5\u001b[0m \u001b[0;32mimport\u001b[0m \u001b[0mseaborn\u001b[0m \u001b[0;32mas\u001b[0m \u001b[0msns\u001b[0m\u001b[0;34m\u001b[0m\u001b[0;34m\u001b[0m\u001b[0m\n",
      "\u001b[0;31mModuleNotFoundError\u001b[0m: No module named 'torch_geometric'"
     ]
    }
   ],
   "source": [
    "import networkx as nx\n",
    "from torch_geometric.data import Data\n",
    "from torch_geometric.utils import to_networkx\n",
    "from matplotlib import pyplot as plt\n",
    "import seaborn as sns\n",
    "import torch\n",
    "import os"
   ]
  },
  {
   "cell_type": "code",
   "execution_count": 30,
   "metadata": {},
   "outputs": [],
   "source": [
    "# Unisci tutti i DataFrame in uno solo\n",
    "df_Met_without_na = pd.concat(list_df_Met_without_na, ignore_index=True)\n",
    "df_Met_0_filled = pd.concat(list_df_Met_0_filled, ignore_index=True)"
   ]
  },
  {
   "cell_type": "markdown",
   "metadata": {},
   "source": [
    "##without_NaN"
   ]
  },
  {
   "cell_type": "code",
   "execution_count": 36,
   "metadata": {},
   "outputs": [
    {
     "name": "stdout",
     "output_type": "stream",
     "text": [
      "Media della metilazione: 0.2282068279164628\n",
      "Mediana della metilazione: 0.0339775544333965\n"
     ]
    },
    {
     "data": {
      "image/png": "[encoded data removed]",
      "text/plain": [
       "<Figure size 1000x600 with 1 Axes>"
      ]
     },
     "metadata": {},
     "output_type": "display_data"
    }
   ],
   "source": [
    "# Calcola la media e la mediana della colonna 'methylation' di df_Met_without_na\n",
    "mean_methylation_without_na = df_Met_without_na['methylation'].mean()\n",
    "median_methylation_without_na = df_Met_without_na['methylation'].median()\n",
    "\n",
    "print(\"Media della metilazione:\", mean_methylation_without_na)\n",
    "print(\"Mediana della metilazione:\", median_methylation_without_na)\n",
    "\n",
    "# Rappresenta la media e la mediana in un grafico\n",
    "plt.figure(figsize=(10, 6))\n",
    "plt.hist(df_Met_without_na['methylation'], bins=20, alpha=0.7, label='Methylation')\n",
    "plt.axvline(mean_methylation_without_na, color='r', linestyle='dashed', linewidth=2, label=f'Mean: {mean_methylation_without_na:.4f}')\n",
    "plt.axvline(median_methylation_without_na, color='g', linestyle='dashed', linewidth=2, label=f'Median: {median_methylation_without_na:.4f}')\n",
    "plt.xlabel('Methylation')\n",
    "plt.ylabel('Frequency')\n",
    "plt.title('Distribution of Methylation with Mean and Median')\n",
    "plt.legend()\n",
    "plt.grid(True)\n",
    "plt.show()"
   ]
  },
  {
   "cell_type": "code",
   "execution_count": 33,
   "metadata": {},
   "outputs": [
    {
     "ename": "NameError",
     "evalue": "name 'np' is not defined",
     "output_type": "error",
     "traceback": [
      "\u001b[0;31m---------------------------------------------------------------------------\u001b[0m",
      "\u001b[0;31mNameError\u001b[0m                                 Traceback (most recent call last)",
      "\u001b[0;32m/tmp/ipykernel_2816467/1440506643.py\u001b[0m in \u001b[0;36m<module>\u001b[0;34m\u001b[0m\n\u001b[1;32m     12\u001b[0m     \u001b[0;32mfor\u001b[0m \u001b[0mf_1_index\u001b[0m \u001b[0;32min\u001b[0m \u001b[0mrange\u001b[0m\u001b[0;34m(\u001b[0m\u001b[0mfeature_size\u001b[0m\u001b[0;34m)\u001b[0m\u001b[0;34m:\u001b[0m\u001b[0;34m\u001b[0m\u001b[0;34m\u001b[0m\u001b[0m\n\u001b[1;32m     13\u001b[0m         \u001b[0;32mfor\u001b[0m \u001b[0mf_2_index\u001b[0m \u001b[0;32min\u001b[0m \u001b[0mrange\u001b[0m\u001b[0;34m(\u001b[0m\u001b[0mf_1_index\u001b[0m \u001b[0;34m+\u001b[0m \u001b[0;36m1\u001b[0m\u001b[0;34m,\u001b[0m \u001b[0mdf_Met_without_na\u001b[0m\u001b[0;34m.\u001b[0m\u001b[0mshape\u001b[0m\u001b[0;34m[\u001b[0m\u001b[0;36m0\u001b[0m\u001b[0;34m]\u001b[0m\u001b[0;34m)\u001b[0m\u001b[0;34m:\u001b[0m\u001b[0;34m\u001b[0m\u001b[0;34m\u001b[0m\u001b[0m\n\u001b[0;32m---> 14\u001b[0;31m             similarity = np.linalg.norm(   \n\u001b[0m\u001b[1;32m     15\u001b[0m                 \u001b[0mdf_Met_without_na\u001b[0m\u001b[0;34m[\u001b[0m\u001b[0;34m'methylation'\u001b[0m\u001b[0;34m]\u001b[0m\u001b[0;34m.\u001b[0m\u001b[0mloc\u001b[0m\u001b[0;34m[\u001b[0m\u001b[0;34m'methylation'\u001b[0m\u001b[0;34m]\u001b[0m\u001b[0;34m.\u001b[0m\u001b[0miloc\u001b[0m\u001b[0;34m[\u001b[0m\u001b[0mf_1_index\u001b[0m\u001b[0;34m]\u001b[0m \u001b[0;34m-\u001b[0m\u001b[0;31m \u001b[0m\u001b[0;31m\\\u001b[0m\u001b[0;34m\u001b[0m\u001b[0;34m\u001b[0m\u001b[0m\n\u001b[1;32m     16\u001b[0m                 df_Met_without_na['methylation'].loc['methylation'].iloc[f_2_index])\n",
      "\u001b[0;31mNameError\u001b[0m: name 'np' is not defined"
     ]
    }
   ],
   "source": [
    "THRESHOLD_WITHOUT_NA = median_methylation_without_na\n",
    "\n",
    "# I'm just gonna do it for the first 2, as an example, in the deployed one\n",
    "# we obviusly need to do it for all.\n",
    "\n",
    "list_of_Data_without_NaN = []\n",
    "\n",
    "for case_index in range(0, 2):\n",
    "    feature_size = df_Met_without_na['methylation'].shape[0]\n",
    "    edges = [[],[]]\n",
    "\n",
    "    for f_1_index in range(feature_size):\n",
    "        for f_2_index in range(f_1_index + 1, df_Met_without_na.shape[0]):\n",
    "            similarity = np.linalg.norm(   \n",
    "                df_Met_without_na['methylation'].iloc[f_1_index] - \\\n",
    "                df_Met_without_na['methylation'].iloc[f_2_index])\n",
    "            if similarity <= THRESHOLD_WITHOUT_NA:\n",
    "                edges[0].append(f_1_index)\n",
    "                edges[0].append(f_2_index)\n",
    "                edges[1].append(f_2_index)\n",
    "                edges[1].append(f_1_index)\n",
    "    \n",
    "    edge_index = torch.tensor(edges, dtype=torch.long)\n",
    "    x = torch.tensor(list(df_Met_without_na['methylation']), dtype=torch.float)\n",
    "\n",
    "    list_of_Data_without_NaN.append(Data(x=x, edge_index=edge_index))"
   ]
  },
  {
   "cell_type": "code",
   "execution_count": null,
   "metadata": {},
   "outputs": [],
   "source": [
    "G1 = to_networkx(list_of_Data_without_NaN[0], to_undirected=True)\n",
    "\n",
    "print(\"Numero di nodi:\", G1.number_of_nodes())\n",
    "print(\"Numero di archi:\", G1.number_of_edges())\n",
    "\n",
    "# Grado di ciascun nodo (numero di connessioni per gene)\n",
    "degrees = dict(G1.degree())\n",
    "print(\"Gradi dei nodi:\", degrees)\n",
    "\n",
    "# Nodo con il massimo grado (gene con più connessioni)\n",
    "max_degree_node = max(degrees, key=degrees.get)\n",
    "print(f\"Gene con il massimo grado: {max_degree_node} ({degrees[max_degree_node]} connessioni)\")\n",
    "\n",
    "# Trova tutte le componenti connesse\n",
    "connected_components = list(nx.connected_components(G1))\n",
    "print(\"Numero di componenti connesse:\", len(connected_components))"
   ]
  },
  {
   "cell_type": "markdown",
   "metadata": {},
   "source": [
    "##0_filled"
   ]
  },
  {
   "cell_type": "code",
   "execution_count": null,
   "metadata": {},
   "outputs": [],
   "source": [
    "# Calcola la media e la mediana della colonna 'methylation' di df_Met_0_filled\n",
    "mean_methylation_0_filled = df_Met_0_filled['methylation'].mean()\n",
    "median_methylation_0_filled = df_Met_0_filled['methylation'].median()\n",
    "\n",
    "print(\"Media della metilazione:\", mean_methylation_0_filled)\n",
    "print(\"Mediana della metilazione:\", median_methylation_0_filled)\n",
    "\n",
    "# Rappresenta la media e la mediana in un grafico\n",
    "plt.figure(figsize=(10, 6))\n",
    "plt.hist(df_Met_0_filled['methylation'], bins=20, alpha=0.7, label='Methylation')\n",
    "plt.axvline(mean_methylation_0_filled, color='r', linestyle='dashed', linewidth=2, label=f'Mean: {mean_methylation_0_filled:.4f}')\n",
    "plt.axvline(median_methylation_0_filled, color='g', linestyle='dashed', linewidth=2, label=f'Median: {median_methylation_0_filled:.4f}')\n",
    "plt.xlabel('Methylation')\n",
    "plt.ylabel('Frequency')\n",
    "plt.title('Distribution of Methylation with Mean and Median')\n",
    "plt.legend()\n",
    "plt.grid(True)\n",
    "plt.show()"
   ]
  },
  {
   "cell_type": "code",
   "execution_count": null,
   "metadata": {},
   "outputs": [],
   "source": [
    "THRESHOLD_0_FILLED = median_methylation_0_filled\n",
    "\n",
    "# I'm just gonna do it for the first 2, as an example, in the deployed one\n",
    "# we obviusly need to do it for all.\n",
    "\n",
    "list_of_Data_0_filled = []\n",
    "\n",
    "for case_index in range(0, 2):\n",
    "    feature_size = df_Met_0_filled['methylation'].shape[0]\n",
    "    edges = [[],[]]\n",
    "\n",
    "    for f_1_index in range(feature_size):\n",
    "        for f_2_index in range(f_1_index + 1, df_Met_0_filled.shape[0]):\n",
    "            similarity = np.linalg.norm(   \n",
    "                df_Met_0_filled['methylation'].iloc[f_1_index] - \\\n",
    "                df_Met_0_filled['methylation'].iloc[f_2_index])\n",
    "            if similarity <= THRESHOLD_0_FILLED:\n",
    "                edges[0].append(f_1_index)\n",
    "                edges[0].append(f_2_index)\n",
    "                edges[1].append(f_2_index)\n",
    "                edges[1].append(f_1_index)\n",
    "    \n",
    "    edge_index = torch.tensor(edges, dtype=torch.long)\n",
    "    x = torch.tensor(list(df_Met_0_filled['methylation']), dtype=torch.float)\n",
    "\n",
    "    list_of_Data_0_filled.append(Data(x=x, edge_index=edge_index))"
   ]
  },
  {
   "cell_type": "code",
   "execution_count": null,
   "metadata": {},
   "outputs": [],
   "source": [
    "G2 = to_networkx(list_of_Data_0_filled[0], to_undirected=True)\n",
    "\n",
    "print(\"Numero di nodi:\", G2.number_of_nodes())\n",
    "print(\"Numero di archi:\", G2.number_of_edges())\n",
    "\n",
    "# Grado di ciascun nodo (numero di connessioni per gene)\n",
    "degrees = dict(G2.degree())\n",
    "print(\"Gradi dei nodi:\", degrees)\n",
    "\n",
    "# Nodo con il massimo grado (gene con più connessioni)\n",
    "max_degree_node = max(degrees, key=degrees.get)\n",
    "print(f\"Gene con il massimo grado: {max_degree_node} ({degrees[max_degree_node]} connessioni)\")\n",
    "\n",
    "# Trova tutte le componenti connesse\n",
    "connected_components = list(nx.connected_components(G2))\n",
    "print(\"Numero di componenti connesse:\", len(connected_components))"
   ]
  }
 ],
 "metadata": {
  "kernelspec": {
   "display_name": "base",
   "language": "python",
   "name": "python3"
  },
  "language_info": {
   "codemirror_mode": {
    "name": "ipython",
    "version": 3
   },
   "file_extension": ".py",
   "mimetype": "text/x-python",
   "name": "python",
   "nbconvert_exporter": "python",
   "pygments_lexer": "ipython3",
   "version": "3.9.13"
  }
 },
 "nbformat": 4,
 "nbformat_minor": 2
}
