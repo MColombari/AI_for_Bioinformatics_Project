{
 "cells": [
  {
   "cell_type": "markdown",
   "metadata": {},
   "source": [
    "# Get relevant gene list."
   ]
  },
  {
   "cell_type": "markdown",
   "metadata": {},
   "source": [
    "### Read and manipulate gtf file"
   ]
  },
  {
   "cell_type": "code",
   "execution_count": 1,
   "metadata": {},
   "outputs": [],
   "source": [
    "import pandas as pd\n",
    "import re\n",
    "import numpy as np\n",
    "import json"
   ]
  },
  {
   "cell_type": "code",
   "execution_count": null,
   "metadata": {},
   "outputs": [],
   "source": [
    "PATH_GTF_FILE = \"/work/h2020deciderficarra_shared/TCGA/OV/project_n16_data/gencode.v47.annotation.gtf\"\n",
    "OUTPUT_FOLDER_GENE_ID = \"/work/h2020deciderficarra_shared/TCGA/OV/project_n16_data\"\n",
    "SAVE_GENE_ID = False"
   ]
  },
  {
   "cell_type": "code",
   "execution_count": 3,
   "metadata": {},
   "outputs": [],
   "source": [
    "gtf = pd.read_csv(PATH_GTF_FILE, sep=\"\\t\", header=None, comment='#')"
   ]
  },
  {
   "cell_type": "code",
   "execution_count": 4,
   "metadata": {},
   "outputs": [],
   "source": [
    "# https://www.biostars.org/p/302441/\n",
    "\n",
    "def remove_version(x):\n",
    "    if '.' in x:\n",
    "        return x.split('.')[0]\n",
    "    return x"
   ]
  },
  {
   "cell_type": "code",
   "execution_count": 5,
   "metadata": {},
   "outputs": [
    {
     "name": "stdout",
     "output_type": "stream",
     "text": [
      "        seqname   source     feature  start    end score strand frame  \\\n",
      "0          chr1   HAVANA        gene  11121  24894     .      +     .   \n",
      "1          chr1   HAVANA  transcript  11121  14413     .      +     .   \n",
      "2          chr1   HAVANA        exon  11121  11211     .      +     .   \n",
      "3          chr1   HAVANA        exon  12010  12227     .      +     .   \n",
      "4          chr1   HAVANA        exon  12613  12721     .      +     .   \n",
      "...         ...      ...         ...    ...    ...   ...    ...   ...   \n",
      "4105480    chrM  ENSEMBL  transcript  15888  15953     .      +     .   \n",
      "4105481    chrM  ENSEMBL        exon  15888  15953     .      +     .   \n",
      "4105482    chrM  ENSEMBL        gene  15956  16023     .      -     .   \n",
      "4105483    chrM  ENSEMBL  transcript  15956  16023     .      -     .   \n",
      "4105484    chrM  ENSEMBL        exon  15956  16023     .      -     .   \n",
      "\n",
      "                 gene_id gene_type  \n",
      "0        ENSG00000290825    lncRNA  \n",
      "1        ENSG00000290825    lncRNA  \n",
      "2        ENSG00000290825    lncRNA  \n",
      "3        ENSG00000290825    lncRNA  \n",
      "4        ENSG00000290825    lncRNA  \n",
      "...                  ...       ...  \n",
      "4105480  ENSG00000210195   Mt_tRNA  \n",
      "4105481  ENSG00000210195   Mt_tRNA  \n",
      "4105482  ENSG00000210196   Mt_tRNA  \n",
      "4105483  ENSG00000210196   Mt_tRNA  \n",
      "4105484  ENSG00000210196   Mt_tRNA  \n",
      "\n",
      "[4105485 rows x 10 columns]\n"
     ]
    }
   ],
   "source": [
    "gtf.columns = ['seqname', 'source', 'feature', 'start', 'end', 'score', 'strand', 'frame', 'attribute']\n",
    "\n",
    "parameters = ['gene_id', 'gene_type']\n",
    "for p in parameters:\n",
    "    gtf[p] = gtf['attribute'].apply(lambda x: re.findall(rf'{p} \"([^\"]*)\"', x)[0] if rf'{p} \"' in x else np.nan)\n",
    "\n",
    "gtf.drop('attribute', axis=1, inplace=True)\n",
    "\n",
    "gtf['gene_id'] = gtf['gene_id'].apply(remove_version)\n",
    "\n",
    "print(gtf)"
   ]
  },
  {
   "cell_type": "code",
   "execution_count": 6,
   "metadata": {},
   "outputs": [
    {
     "name": "stdout",
     "output_type": "stream",
     "text": [
      "Index(['seqname', 'source', 'feature', 'start', 'end', 'score', 'strand',\n",
      "       'frame', 'gene_id', 'gene_type'],\n",
      "      dtype='object')\n"
     ]
    }
   ],
   "source": [
    "print(gtf.columns)"
   ]
  },
  {
   "cell_type": "code",
   "execution_count": 7,
   "metadata": {},
   "outputs": [
    {
     "name": "stdout",
     "output_type": "stream",
     "text": [
      "        seqname   source      feature  start    end score strand frame  \\\n",
      "2486       chr1   HAVANA         gene  65419  71585     .      +     .   \n",
      "2487       chr1   HAVANA   transcript  65419  71585     .      +     .   \n",
      "2488       chr1   HAVANA         exon  65419  65433     .      +     .   \n",
      "2489       chr1   HAVANA         exon  65520  65573     .      +     .   \n",
      "2490       chr1   HAVANA          CDS  65565  65573     .      +     0   \n",
      "...         ...      ...          ...    ...    ...   ...    ...   ...   \n",
      "4105474    chrM  ENSEMBL         gene  14747  15887     .      +     .   \n",
      "4105475    chrM  ENSEMBL   transcript  14747  15887     .      +     .   \n",
      "4105476    chrM  ENSEMBL         exon  14747  15887     .      +     .   \n",
      "4105477    chrM  ENSEMBL          CDS  14747  15887     .      +     0   \n",
      "4105478    chrM  ENSEMBL  start_codon  14747  14749     .      +     0   \n",
      "\n",
      "                 gene_id       gene_type  \n",
      "2486     ENSG00000186092  protein_coding  \n",
      "2487     ENSG00000186092  protein_coding  \n",
      "2488     ENSG00000186092  protein_coding  \n",
      "2489     ENSG00000186092  protein_coding  \n",
      "2490     ENSG00000186092  protein_coding  \n",
      "...                  ...             ...  \n",
      "4105474  ENSG00000198727  protein_coding  \n",
      "4105475  ENSG00000198727  protein_coding  \n",
      "4105476  ENSG00000198727  protein_coding  \n",
      "4105477  ENSG00000198727  protein_coding  \n",
      "4105478  ENSG00000198727  protein_coding  \n",
      "\n",
      "[3087002 rows x 10 columns]\n"
     ]
    }
   ],
   "source": [
    "gtf_pc = gtf[gtf['gene_type'] == 'protein_coding']\n",
    "print(gtf_pc)"
   ]
  },
  {
   "cell_type": "markdown",
   "metadata": {},
   "source": [
    "### Save Gene id relative to the protein coding"
   ]
  },
  {
   "cell_type": "code",
   "execution_count": 8,
   "metadata": {},
   "outputs": [
    {
     "name": "stdout",
     "output_type": "stream",
     "text": [
      "20092\n"
     ]
    }
   ],
   "source": [
    "gtf_pc_set = set(gtf_pc['gene_id'].to_list())\n",
    "print(len(gtf_pc_set))"
   ]
  },
  {
   "cell_type": "markdown",
   "metadata": {},
   "source": [
    "Value in output match with the stimated gene with are proteine coding.\n",
    "source: [link](https://www.genome.gov/genetics-glossary/Gene#:~:text=And%20genes%20are%20the%20part,of%20the%20entire%20human%20genome.)"
   ]
  },
  {
   "cell_type": "code",
   "execution_count": null,
   "metadata": {},
   "outputs": [],
   "source": [
    "if SAVE_GENE_ID:\n",
    "    with open(OUTPUT_FOLDER_GENE_ID + \"/\" + 'gene_id_protein_coding.json', 'w', encoding='utf-8') as f:\n",
    "        json.dump(list(gtf_pc_set), f, ensure_ascii=False, indent=4)"
   ]
  },
  {
   "cell_type": "markdown",
   "metadata": {},
   "source": [
    "# Actual proprocessing"
   ]
  },
  {
   "cell_type": "markdown",
   "metadata": {},
   "source": [
    "### Now parse load the data and parse it"
   ]
  },
  {
   "cell_type": "code",
   "execution_count": 10,
   "metadata": {},
   "outputs": [],
   "source": [
    "import torch\n",
    "import os"
   ]
  },
  {
   "cell_type": "code",
   "execution_count": null,
   "metadata": {},
   "outputs": [],
   "source": [
    "PATH_FOLDER_GENE = \"/work/h2020deciderficarra_shared/TCGA/OV/project_n16_data/GeneExpression\"\n",
    "PATH_CASE_ID_STRUCTURE = \"/work/h2020deciderficarra_shared/TCGA/OV/project_n16_data/case_id_and_structure.json\""
   ]
  },
  {
   "cell_type": "code",
   "execution_count": 12,
   "metadata": {},
   "outputs": [],
   "source": [
    "with open(PATH_CASE_ID_STRUCTURE, 'r') as file:\n",
    "    file_parsed = json.load(file)"
   ]
  },
  {
   "cell_type": "code",
   "execution_count": 13,
   "metadata": {},
   "outputs": [],
   "source": [
    "file_to_case_id = dict((file_parsed[k]['files']['gene'], k) for k in file_parsed.keys())\n",
    "file_to_os = dict((file_parsed[k]['files']['gene'], file_parsed[k]['os']) for k in file_parsed.keys())"
   ]
  },
  {
   "cell_type": "markdown",
   "metadata": {},
   "source": [
    "Some resources to understand which feature to use:\n",
    "- [Doc GDC](https://docs.gdc.cancer.gov/Data/Bioinformatics_Pipelines/Expression_mRNA_Pipeline/#introduction)"
   ]
  },
  {
   "cell_type": "code",
   "execution_count": null,
   "metadata": {},
   "outputs": [],
   "source": [
    "datastructure = pd.DataFrame(columns=['case_id', 'os', 'values'])\n",
    "\n",
    "# All possibilitys.\n",
    "# feature_to_save = [\n",
    "#     'unstranded', 'stranded_first', 'stranded_second',\n",
    "#     'tpm_unstranded', 'fpkm_unstranded', 'fpkm_uq_unstranded'\n",
    "# ]\n",
    "feature_to_save = ['tpm_unstranded', 'fpkm_unstranded', 'fpkm_uq_unstranded']\n",
    "\n",
    "index = 0\n",
    "# Now explore data path to get the right files\n",
    "for root, dirs, files in os.walk(PATH_FOLDER_GENE):\n",
    "    for dir in dirs:\n",
    "        for root, dirs, files in os.walk(PATH_FOLDER_GENE + \"/\" + dir):\n",
    "            for file in files:\n",
    "                if file in file_to_case_id.keys():\n",
    "                    parsed_file = pd.read_csv(PATH_FOLDER_GENE + \"/\" + dir + \"/\" + file,\n",
    "                                              sep='\\t', header=0, skiprows=lambda x: x in [0, 2, 3, 4, 5])\n",
    "                    parsed_file = parsed_file[['gene_id'] + feature_to_save]\n",
    "                    # parsed_file = parsed_file[['gene_id', 'gene_type'] + feature_to_save]\n",
    "\n",
    "                    # Now specify columns type.\n",
    "                    convert_dict = dict([(k, float) for k in feature_to_save])\n",
    "                    convert_dict['gene_id'] = str\n",
    "                    parsed_file = parsed_file.astype(convert_dict)\n",
    "                    \n",
    "                    # They actually don't match.\n",
    "                    # So the 'gene_type' in the dataset don't match the in the gtf file.\n",
    "                    # So i'm gonna use as the right reference the gtf file.\n",
    "\n",
    "                    parsed_file['gene_id'] = parsed_file['gene_id'].apply(remove_version)\n",
    "\n",
    "                    # parsed_file = parsed_file[parsed_file['gene_type'] == 'protein_coding']\n",
    "                    # if not set(parsed_file['gene_id']).issubset(gtf_pc_set):\n",
    "                    #     raise Exception(\"List of coding genes don't match.\")\n",
    "\n",
    "                    parsed_file = parsed_file[parsed_file['gene_id'].isin(gtf_pc_set)]\n",
    "\n",
    "                    datastructure.loc[index] = [\n",
    "                        file_to_case_id[file],\n",
    "                        file_to_os[file],\n",
    "                        parsed_file\n",
    "                    ]\n",
    "                    index += 1"
   ]
  },
  {
   "cell_type": "code",
   "execution_count": 15,
   "metadata": {},
   "outputs": [
    {
     "name": "stdout",
     "output_type": "stream",
     "text": [
      "Max: 19955\n",
      "Min: 19955\n",
      "Mean: 19955.0\n"
     ]
    }
   ],
   "source": [
    "sizes = [datastructure.loc[i]['values'].shape[0] for i in range(datastructure.shape[0])]\n",
    "print(f\"Max: {max(sizes)}\")\n",
    "print(f\"Min: {min(sizes)}\")\n",
    "print(f\"Mean: {sum(sizes) / len(sizes)}\")"
   ]
  },
  {
   "cell_type": "markdown",
   "metadata": {},
   "source": [
    "### Apply data transformation"
   ]
  },
  {
   "cell_type": "code",
   "execution_count": 16,
   "metadata": {},
   "outputs": [
    {
     "data": {
      "text/html": [
       "<div>\n",
       "<style scoped>\n",
       "    .dataframe tbody tr th:only-of-type {\n",
       "        vertical-align: middle;\n",
       "    }\n",
       "\n",
       "    .dataframe tbody tr th {\n",
       "        vertical-align: top;\n",
       "    }\n",
       "\n",
       "    .dataframe thead th {\n",
       "        text-align: right;\n",
       "    }\n",
       "</style>\n",
       "<table border=\"1\" class=\"dataframe\">\n",
       "  <thead>\n",
       "    <tr style=\"text-align: right;\">\n",
       "      <th></th>\n",
       "      <th>tpm_unstranded</th>\n",
       "      <th>fpkm_unstranded</th>\n",
       "      <th>fpkm_uq_unstranded</th>\n",
       "    </tr>\n",
       "  </thead>\n",
       "  <tbody>\n",
       "    <tr>\n",
       "      <th>0</th>\n",
       "      <td>16.6793</td>\n",
       "      <td>6.0105</td>\n",
       "      <td>7.8261</td>\n",
       "    </tr>\n",
       "    <tr>\n",
       "      <th>1</th>\n",
       "      <td>0.0683</td>\n",
       "      <td>0.0246</td>\n",
       "      <td>0.0320</td>\n",
       "    </tr>\n",
       "    <tr>\n",
       "      <th>2</th>\n",
       "      <td>111.3742</td>\n",
       "      <td>40.1346</td>\n",
       "      <td>52.2584</td>\n",
       "    </tr>\n",
       "    <tr>\n",
       "      <th>3</th>\n",
       "      <td>6.4589</td>\n",
       "      <td>2.3275</td>\n",
       "      <td>3.0306</td>\n",
       "    </tr>\n",
       "    <tr>\n",
       "      <th>4</th>\n",
       "      <td>3.6051</td>\n",
       "      <td>1.2991</td>\n",
       "      <td>1.6916</td>\n",
       "    </tr>\n",
       "    <tr>\n",
       "      <th>...</th>\n",
       "      <td>...</td>\n",
       "      <td>...</td>\n",
       "      <td>...</td>\n",
       "    </tr>\n",
       "    <tr>\n",
       "      <th>60650</th>\n",
       "      <td>0.0000</td>\n",
       "      <td>0.0000</td>\n",
       "      <td>0.0000</td>\n",
       "    </tr>\n",
       "    <tr>\n",
       "      <th>60655</th>\n",
       "      <td>0.0000</td>\n",
       "      <td>0.0000</td>\n",
       "      <td>0.0000</td>\n",
       "    </tr>\n",
       "    <tr>\n",
       "      <th>60657</th>\n",
       "      <td>0.0000</td>\n",
       "      <td>0.0000</td>\n",
       "      <td>0.0000</td>\n",
       "    </tr>\n",
       "    <tr>\n",
       "      <th>60658</th>\n",
       "      <td>0.0367</td>\n",
       "      <td>0.0132</td>\n",
       "      <td>0.0172</td>\n",
       "    </tr>\n",
       "    <tr>\n",
       "      <th>60659</th>\n",
       "      <td>1.1101</td>\n",
       "      <td>0.4000</td>\n",
       "      <td>0.5209</td>\n",
       "    </tr>\n",
       "  </tbody>\n",
       "</table>\n",
       "<p>19955 rows × 3 columns</p>\n",
       "</div>"
      ],
      "text/plain": [
       "       tpm_unstranded  fpkm_unstranded  fpkm_uq_unstranded\n",
       "0             16.6793           6.0105              7.8261\n",
       "1              0.0683           0.0246              0.0320\n",
       "2            111.3742          40.1346             52.2584\n",
       "3              6.4589           2.3275              3.0306\n",
       "4              3.6051           1.2991              1.6916\n",
       "...               ...              ...                 ...\n",
       "60650          0.0000           0.0000              0.0000\n",
       "60655          0.0000           0.0000              0.0000\n",
       "60657          0.0000           0.0000              0.0000\n",
       "60658          0.0367           0.0132              0.0172\n",
       "60659          1.1101           0.4000              0.5209\n",
       "\n",
       "[19955 rows x 3 columns]"
      ]
     },
     "execution_count": 16,
     "metadata": {},
     "output_type": "execute_result"
    }
   ],
   "source": [
    "datastructure['values'].loc[0][feature_to_save]"
   ]
  },
  {
   "cell_type": "code",
   "execution_count": 17,
   "metadata": {},
   "outputs": [],
   "source": [
    "for i in range(datastructure.shape[0]):\n",
    "    datastructure['values'].loc[i][feature_to_save] = datastructure['values'].loc[i][feature_to_save].applymap(lambda x: np.log10(x + 0.01))"
   ]
  },
  {
   "cell_type": "code",
   "execution_count": 18,
   "metadata": {},
   "outputs": [
    {
     "data": {
      "text/html": [
       "<div>\n",
       "<style scoped>\n",
       "    .dataframe tbody tr th:only-of-type {\n",
       "        vertical-align: middle;\n",
       "    }\n",
       "\n",
       "    .dataframe tbody tr th {\n",
       "        vertical-align: top;\n",
       "    }\n",
       "\n",
       "    .dataframe thead th {\n",
       "        text-align: right;\n",
       "    }\n",
       "</style>\n",
       "<table border=\"1\" class=\"dataframe\">\n",
       "  <thead>\n",
       "    <tr style=\"text-align: right;\">\n",
       "      <th></th>\n",
       "      <th>tpm_unstranded</th>\n",
       "      <th>fpkm_unstranded</th>\n",
       "      <th>fpkm_uq_unstranded</th>\n",
       "    </tr>\n",
       "  </thead>\n",
       "  <tbody>\n",
       "    <tr>\n",
       "      <th>0</th>\n",
       "      <td>1.222438</td>\n",
       "      <td>0.779633</td>\n",
       "      <td>0.894100</td>\n",
       "    </tr>\n",
       "    <tr>\n",
       "      <th>1</th>\n",
       "      <td>-1.106238</td>\n",
       "      <td>-1.460924</td>\n",
       "      <td>-1.376751</td>\n",
       "    </tr>\n",
       "    <tr>\n",
       "      <th>2</th>\n",
       "      <td>2.046824</td>\n",
       "      <td>1.603627</td>\n",
       "      <td>1.718239</td>\n",
       "    </tr>\n",
       "    <tr>\n",
       "      <th>3</th>\n",
       "      <td>0.810830</td>\n",
       "      <td>0.368752</td>\n",
       "      <td>0.482959</td>\n",
       "    </tr>\n",
       "    <tr>\n",
       "      <th>4</th>\n",
       "      <td>0.558120</td>\n",
       "      <td>0.116973</td>\n",
       "      <td>0.230857</td>\n",
       "    </tr>\n",
       "    <tr>\n",
       "      <th>...</th>\n",
       "      <td>...</td>\n",
       "      <td>...</td>\n",
       "      <td>...</td>\n",
       "    </tr>\n",
       "    <tr>\n",
       "      <th>60650</th>\n",
       "      <td>-2.000000</td>\n",
       "      <td>-2.000000</td>\n",
       "      <td>-2.000000</td>\n",
       "    </tr>\n",
       "    <tr>\n",
       "      <th>60655</th>\n",
       "      <td>-2.000000</td>\n",
       "      <td>-2.000000</td>\n",
       "      <td>-2.000000</td>\n",
       "    </tr>\n",
       "    <tr>\n",
       "      <th>60657</th>\n",
       "      <td>-2.000000</td>\n",
       "      <td>-2.000000</td>\n",
       "      <td>-2.000000</td>\n",
       "    </tr>\n",
       "    <tr>\n",
       "      <th>60658</th>\n",
       "      <td>-1.330683</td>\n",
       "      <td>-1.634512</td>\n",
       "      <td>-1.565431</td>\n",
       "    </tr>\n",
       "    <tr>\n",
       "      <th>60659</th>\n",
       "      <td>0.049257</td>\n",
       "      <td>-0.387216</td>\n",
       "      <td>-0.274987</td>\n",
       "    </tr>\n",
       "  </tbody>\n",
       "</table>\n",
       "<p>19955 rows × 3 columns</p>\n",
       "</div>"
      ],
      "text/plain": [
       "       tpm_unstranded  fpkm_unstranded  fpkm_uq_unstranded\n",
       "0            1.222438         0.779633            0.894100\n",
       "1           -1.106238        -1.460924           -1.376751\n",
       "2            2.046824         1.603627            1.718239\n",
       "3            0.810830         0.368752            0.482959\n",
       "4            0.558120         0.116973            0.230857\n",
       "...               ...              ...                 ...\n",
       "60650       -2.000000        -2.000000           -2.000000\n",
       "60655       -2.000000        -2.000000           -2.000000\n",
       "60657       -2.000000        -2.000000           -2.000000\n",
       "60658       -1.330683        -1.634512           -1.565431\n",
       "60659        0.049257        -0.387216           -0.274987\n",
       "\n",
       "[19955 rows x 3 columns]"
      ]
     },
     "execution_count": 18,
     "metadata": {},
     "output_type": "execute_result"
    }
   ],
   "source": [
    "datastructure['values'].loc[0][feature_to_save]"
   ]
  },
  {
   "cell_type": "markdown",
   "metadata": {},
   "source": [
    "For each row i normalize between 0 and 1."
   ]
  },
  {
   "cell_type": "code",
   "execution_count": 19,
   "metadata": {},
   "outputs": [],
   "source": [
    "for r in range(datastructure.shape[0]):\n",
    "    for c in feature_to_save:\n",
    "        datastructure['values'].loc[r][c] = (datastructure['values'].loc[r][c] - datastructure['values'].loc[r][c].min()) / \\\n",
    "                                            (datastructure['values'].loc[r][c].max() - datastructure['values'].loc[r][c].min())"
   ]
  },
  {
   "cell_type": "code",
   "execution_count": 20,
   "metadata": {},
   "outputs": [
    {
     "name": "stdout",
     "output_type": "stream",
     "text": [
      "tpm_unstranded\n",
      "\tMax: 1.0\n",
      "\tMin: 0.0\n",
      "fpkm_unstranded\n",
      "\tMax: 1.0\n",
      "\tMin: 0.0\n",
      "fpkm_uq_unstranded\n",
      "\tMax: 1.0\n",
      "\tMin: 0.0\n"
     ]
    }
   ],
   "source": [
    "# print(datastructure['values'].loc[0][feature_to_save])\n",
    "for f in feature_to_save:\n",
    "    print(f\"{f}\")\n",
    "    print(f\"\\tMax: {float(datastructure['values'].loc[0][f].max())}\")\n",
    "    print(f\"\\tMin: {float(datastructure['values'].loc[0][f].min())}\")"
   ]
  },
  {
   "cell_type": "markdown",
   "metadata": {},
   "source": [
    "# Create Graph"
   ]
  },
  {
   "cell_type": "code",
   "execution_count": 21,
   "metadata": {},
   "outputs": [
    {
     "name": "stderr",
     "output_type": "stream",
     "text": [
      "/homes/mcolombari/.local/lib/python3.9/site-packages/torch/__config__.py:9: UserWarning: CUDA initialization: The NVIDIA driver on your system is too old (found version 11040). Please update your GPU driver by downloading and installing a new version from the URL: http://www.nvidia.com/Download/index.aspx Alternatively, go to: https://pytorch.org to install a PyTorch version that has been compiled with your version of the CUDA driver. (Triggered internally at ../c10/cuda/CUDAFunctions.cpp:108.)\n",
      "  return torch._C._show_config()\n"
     ]
    }
   ],
   "source": [
    "import networkx as nx\n",
    "from torch_geometric.data import Data\n",
    "from torch_geometric.utils import to_networkx"
   ]
  },
  {
   "cell_type": "code",
   "execution_count": 22,
   "metadata": {},
   "outputs": [],
   "source": [
    "FEATURE_TO_COMPARE = \"tpm_unstranded\""
   ]
  },
  {
   "cell_type": "code",
   "execution_count": 23,
   "metadata": {},
   "outputs": [
    {
     "name": "stdout",
     "output_type": "stream",
     "text": [
      "Median of median 11.379023917798232\n",
      "Max of median 15.865764139302868\n",
      "Min of median 9.938701201942797\n"
     ]
    },
    {
     "data": {
      "image/png": "[encoded data removed]",
      "text/plain": [
       "<Figure size 1000x600 with 1 Axes>"
      ]
     },
     "metadata": {},
     "output_type": "display_data"
    }
   ],
   "source": [
    "# https://pytorch-geometric.readthedocs.io/en/2.5.3/notes/create_dataset.html\n",
    "#       data_list = [Data(...), ..., Data(...)]\n",
    "#       loader = DataLoader(data_list, batch_size=32)\n",
    "\n",
    "from matplotlib import pyplot as plt\n",
    "import seaborn as sns\n",
    "\n",
    "# This could be used for having each node as a user, not our case.\n",
    "\n",
    "median_values = []\n",
    "for n_1_index in range(datastructure.shape[0]):\n",
    "    values_for_each_node = []\n",
    "    for n_2_index in range(n_1_index + 1, datastructure.shape[0]):\n",
    "        values_for_each_node.append(np.linalg.norm(   \n",
    "            datastructure['values'].loc[n_1_index][FEATURE_TO_COMPARE] - \\\n",
    "            datastructure['values'].loc[n_2_index][FEATURE_TO_COMPARE]))\n",
    "    # print(np.median(np.array(values_for_each_node), axis = 0))\n",
    "    if len(values_for_each_node) != 0:\n",
    "        median_values.append(np.median(np.array(values_for_each_node), axis = 0))\n",
    "\n",
    "print(f\"Median of median {np.median(np.array(median_values))}\")\n",
    "print(f\"Max of median {np.max(np.array(median_values))}\")\n",
    "print(f\"Min of median {np.min(np.array(median_values))}\")\n",
    "\n",
    "plt.figure(figsize=(10, 6))\n",
    "sns.histplot(np.array(median_values), bins=50, kde=True, color=\"red\")\n",
    "plt.title(\"Distribution of \\'median for each node with eachother\\'\", fontsize=16)\n",
    "plt.xlabel(\"value\", fontsize=14)\n",
    "plt.ylabel(\"Ammount per value\", fontsize=14)\n",
    "plt.grid(axis='y', linestyle='--', alpha=0.7)\n",
    "plt.show()"
   ]
  },
  {
   "cell_type": "code",
   "execution_count": 24,
   "metadata": {},
   "outputs": [
    {
     "name": "stdout",
     "output_type": "stream",
     "text": [
      "Median of median 0.11895492544682251\n",
      "Max of median 0.14598454521483795\n",
      "Min of median 0.0996162459483198\n"
     ]
    },
    {
     "data": {
      "image/png": "[encoded data removed]",
      "text/plain": [
       "<Figure size 1000x600 with 1 Axes>"
      ]
     },
     "metadata": {},
     "output_type": "display_data"
    }
   ],
   "source": [
    "complete_median_for_each_case = []\n",
    "\n",
    "# Without the step=5 the kernel crash.\n",
    "for case_index in range(0, datastructure.shape[0], 5):\n",
    "    values_for_each_node = []\n",
    "    feature_size = datastructure['values'].loc[case_index][FEATURE_TO_COMPARE].shape[0]\n",
    "    # print(feature_size) -> \"14168\"\n",
    "    for f_1_index in range(feature_size):\n",
    "        values_for_this_node = []\n",
    "        for f_2_index in range(f_1_index + 1, datastructure.shape[0]):\n",
    "            values_for_this_node.append(np.linalg.norm(   \n",
    "                datastructure['values'].loc[case_index][FEATURE_TO_COMPARE].iloc[f_1_index] - \\\n",
    "                datastructure['values'].loc[case_index][FEATURE_TO_COMPARE].iloc[f_2_index]))\n",
    "        if len(values_for_this_node) != 0:\n",
    "            values_for_each_node.append(np.median(np.array(values_for_this_node), axis = 0))\n",
    "    complete_median_for_each_case.append(np.median(np.array(values_for_each_node), axis = 0))\n",
    "\n",
    "print(f\"Median of median {np.median(np.array(complete_median_for_each_case))}\")\n",
    "print(f\"Max of median {np.max(np.array(complete_median_for_each_case))}\")\n",
    "print(f\"Min of median {np.min(np.array(complete_median_for_each_case))}\")\n",
    "\n",
    "plt.figure(figsize=(10, 6))\n",
    "sns.histplot(np.array(complete_median_for_each_case), bins=50, kde=True, color=\"red\")\n",
    "plt.title(\"Distribution of \\'median of median for each case\\'\", fontsize=16)\n",
    "plt.xlabel(\"value\", fontsize=14)\n",
    "plt.ylabel(\"Ammount per value\", fontsize=14)\n",
    "plt.grid(axis='y', linestyle='--', alpha=0.7)\n",
    "plt.show()"
   ]
  },
  {
   "cell_type": "code",
   "execution_count": 28,
   "metadata": {},
   "outputs": [
    {
     "name": "stdout",
     "output_type": "stream",
     "text": [
      "In creation: 0.0s\n",
      "Pairwise_distances: 4.0s\n",
      "Edge creation: 19.0s\n",
      "Data creation: 46.0s\n"
     ]
    }
   ],
   "source": [
    "THRESHOLD = 0.1\n",
    "\n",
    "# I'm just gonna do it for the first 30, as an example, in the deployed one\n",
    "# we obviusly need to do it for all.\n",
    "\n",
    "list_of_Data = []\n",
    "\n",
    "from sklearn.metrics import pairwise_distances\n",
    "import time\n",
    "\n",
    "for case_index in range(0, 1):\n",
    "    # feature_size = datastructure['values'].loc[case_index][FEATURE_TO_COMPARE].shape[0]\n",
    "    edges = []\n",
    "    start_time = time.time()\n",
    "\n",
    "    in_1 = [[v] for v in list(datastructure['values'].loc[case_index][FEATURE_TO_COMPARE])]\n",
    "\n",
    "    print(f\"In creation: {np.floor(time.time() - start_time)}s\")\n",
    "    start_time = time.time()\n",
    "\n",
    "    dist_a = pairwise_distances(in_1, metric=\"euclidean\")\n",
    "\n",
    "    print(f\"Pairwise_distances: {np.floor(time.time() - start_time)}s\")\n",
    "    start_time = time.time()\n",
    "\n",
    "    # similarity_matrix = np.array(dist_a)  # Ensure it's a NumPy array\n",
    "    # rows, cols = np.triu_indices_from(similarity_matrix, k=1)  # Upper triangle indices\n",
    "\n",
    "    # # Filter based on threshold\n",
    "    # mask = similarity_matrix[rows, cols] < THRESHOLD\n",
    "    # # connected_pairs = list(zip(rows[mask], cols[mask]))  # Convert to list of tuples\n",
    "    # edges.append(list(rows[mask] + cols[mask]))\n",
    "    # edges.append(list(cols[mask] + rows[mask]))\n",
    "    # print(edges)\n",
    "\n",
    "    d_mask = np.zeros(dist_a.shape, dtype=bool)\n",
    "    np.fill_diagonal(d_mask, 1)\n",
    "\n",
    "    # Force the diagonal to be equal to Threshold, so it will not be considered, so no self loops.\n",
    "    dist_a[d_mask] = THRESHOLD\n",
    "\n",
    "    row, cols = np.where(dist_a < THRESHOLD)\n",
    "    edges.append(list(row))\n",
    "    edges.append(list(cols))\n",
    "    # print(edges[0])\n",
    "    # print(edges[1])\n",
    "    # for source, target in zip(ix_a, ix_b):\n",
    "    #     edges[0].append(source)\n",
    "    #     edges[1].append(target)\n",
    "\n",
    "    print(f\"Edge creation: {np.floor(time.time() - start_time)}s\")\n",
    "    start_time = time.time()\n",
    "    \n",
    "    edge_index = torch.tensor(edges, dtype=torch.long)\n",
    "    x = torch.tensor(list(datastructure['values'].loc[case_index][FEATURE_TO_COMPARE]), dtype=torch.float)\n",
    "    y = torch.tensor(datastructure['os'].loc[case_index])\n",
    "    list_of_Data.append(Data(x=x, edge_index=edge_index, y=y))\n",
    "\n",
    "    print(f\"Data creation: {np.floor(time.time() - start_time)}s\")\n"
   ]
  },
  {
   "cell_type": "code",
   "execution_count": 30,
   "metadata": {},
   "outputs": [
    {
     "data": {
      "text/html": [
       "<div>\n",
       "<style scoped>\n",
       "    .dataframe tbody tr th:only-of-type {\n",
       "        vertical-align: middle;\n",
       "    }\n",
       "\n",
       "    .dataframe tbody tr th {\n",
       "        vertical-align: top;\n",
       "    }\n",
       "\n",
       "    .dataframe thead th {\n",
       "        text-align: right;\n",
       "    }\n",
       "</style>\n",
       "<table border=\"1\" class=\"dataframe\">\n",
       "  <thead>\n",
       "    <tr style=\"text-align: right;\">\n",
       "      <th></th>\n",
       "      <th>tpm_unstranded</th>\n",
       "      <th>fpkm_unstranded</th>\n",
       "      <th>fpkm_uq_unstranded</th>\n",
       "    </tr>\n",
       "  </thead>\n",
       "  <tbody>\n",
       "    <tr>\n",
       "      <th>0</th>\n",
       "      <td>0.497181</td>\n",
       "      <td>0.470225</td>\n",
       "      <td>0.482905</td>\n",
       "    </tr>\n",
       "    <tr>\n",
       "      <th>1</th>\n",
       "      <td>0.171590</td>\n",
       "      <td>0.132795</td>\n",
       "      <td>0.150580</td>\n",
       "    </tr>\n",
       "    <tr>\n",
       "      <th>2</th>\n",
       "      <td>0.571605</td>\n",
       "      <td>0.548617</td>\n",
       "      <td>0.559432</td>\n",
       "    </tr>\n",
       "    <tr>\n",
       "      <th>3</th>\n",
       "      <td>0.367045</td>\n",
       "      <td>0.333360</td>\n",
       "      <td>0.349182</td>\n",
       "    </tr>\n",
       "    <tr>\n",
       "      <th>4</th>\n",
       "      <td>0.285167</td>\n",
       "      <td>0.247832</td>\n",
       "      <td>0.265303</td>\n",
       "    </tr>\n",
       "    <tr>\n",
       "      <th>...</th>\n",
       "      <td>...</td>\n",
       "      <td>...</td>\n",
       "      <td>...</td>\n",
       "    </tr>\n",
       "    <tr>\n",
       "      <th>60650</th>\n",
       "      <td>0.000000</td>\n",
       "      <td>0.000000</td>\n",
       "      <td>0.000000</td>\n",
       "    </tr>\n",
       "    <tr>\n",
       "      <th>60655</th>\n",
       "      <td>0.000000</td>\n",
       "      <td>0.000000</td>\n",
       "      <td>0.000000</td>\n",
       "    </tr>\n",
       "    <tr>\n",
       "      <th>60657</th>\n",
       "      <td>0.000000</td>\n",
       "      <td>0.000000</td>\n",
       "      <td>0.000000</td>\n",
       "    </tr>\n",
       "    <tr>\n",
       "      <th>60658</th>\n",
       "      <td>0.131991</td>\n",
       "      <td>0.095469</td>\n",
       "      <td>0.111863</td>\n",
       "    </tr>\n",
       "    <tr>\n",
       "      <th>60659</th>\n",
       "      <td>0.224612</td>\n",
       "      <td>0.185585</td>\n",
       "      <td>0.203722</td>\n",
       "    </tr>\n",
       "  </tbody>\n",
       "</table>\n",
       "<p>19955 rows × 3 columns</p>\n",
       "</div>"
      ],
      "text/plain": [
       "       tpm_unstranded  fpkm_unstranded  fpkm_uq_unstranded\n",
       "0            0.497181         0.470225            0.482905\n",
       "1            0.171590         0.132795            0.150580\n",
       "2            0.571605         0.548617            0.559432\n",
       "3            0.367045         0.333360            0.349182\n",
       "4            0.285167         0.247832            0.265303\n",
       "...               ...              ...                 ...\n",
       "60650        0.000000         0.000000            0.000000\n",
       "60655        0.000000         0.000000            0.000000\n",
       "60657        0.000000         0.000000            0.000000\n",
       "60658        0.131991         0.095469            0.111863\n",
       "60659        0.224612         0.185585            0.203722\n",
       "\n",
       "[19955 rows x 3 columns]"
      ]
     },
     "execution_count": 30,
     "metadata": {},
     "output_type": "execute_result"
    }
   ],
   "source": [
    "datastructure['values'].loc[case_index][['tpm_unstranded', 'fpkm_unstranded', 'fpkm_uq_unstranded']]"
   ]
  },
  {
   "cell_type": "code",
   "execution_count": 31,
   "metadata": {},
   "outputs": [
    {
     "data": {
      "text/plain": [
       "tensor([[0.4930, 0.4562, 0.4662],\n",
       "        [0.1367, 0.0885, 0.1004],\n",
       "        [0.6191, 0.5914, 0.5989],\n",
       "        ...,\n",
       "        [0.0000, 0.0000, 0.0000],\n",
       "        [0.1024, 0.0600, 0.0700],\n",
       "        [0.3135, 0.2647, 0.2779]])"
      ]
     },
     "execution_count": 31,
     "metadata": {},
     "output_type": "execute_result"
    }
   ],
   "source": [
    "torch.tensor(datastructure['values'].loc[0][['tpm_unstranded', 'fpkm_unstranded', 'fpkm_uq_unstranded']].values, dtype=torch.float)"
   ]
  },
  {
   "cell_type": "code",
   "execution_count": null,
   "metadata": {},
   "outputs": [],
   "source": [
    "G = to_networkx(list_of_Data[0], to_undirected=True)\n",
    "\n",
    "print(\"Numero di nodi:\", G.number_of_nodes())\n",
    "print(\"Numero di archi:\", G.number_of_edges())\n",
    "\n",
    "# Grado di ciascun nodo (numero di connessioni per gene)\n",
    "degrees = dict(G.degree())\n",
    "print(\"Gradi dei nodi:\", degrees)\n",
    "\n",
    "# Nodo con il massimo grado (gene con più connessioni)\n",
    "max_degree_node = max(degrees, key=degrees.get)\n",
    "print(f\"Gene con il massimo grado: {max_degree_node} ({degrees[max_degree_node]} connessioni)\")\n",
    "\n",
    "# Trova tutte le componenti connesse\n",
    "connected_components = list(nx.connected_components(G))\n",
    "print(\"Numero di componenti connesse:\", len(connected_components))"
   ]
  },
  {
   "cell_type": "markdown",
   "metadata": {},
   "source": [
    "So now we have a list of Data.\n",
    "A list of 226 Graph, one for each case."
   ]
  },
  {
   "cell_type": "markdown",
   "metadata": {},
   "source": [
    "# Split into Test and Train"
   ]
  },
  {
   "cell_type": "markdown",
   "metadata": {},
   "source": [
    "### Split base on OS"
   ]
  },
  {
   "cell_type": "code",
   "execution_count": null,
   "metadata": {},
   "outputs": [],
   "source": [
    "NUMBER_OF_CLASSES = 3\n",
    "PERCENTAGE_OF_TEST = 0.3"
   ]
  },
  {
   "cell_type": "code",
   "execution_count": null,
   "metadata": {},
   "outputs": [],
   "source": [
    "# First divide it in classes\n",
    "os = [int(d.y) for d in list_of_Data]\n",
    "os.sort()\n",
    "\n",
    "n = len(os)\n",
    "\n",
    "split_values = []\n",
    "for c in range(1, NUMBER_OF_CLASSES + 1):\n",
    "    if c == NUMBER_OF_CLASSES:\n",
    "        split_values.append(os[len(os) - 1])\n",
    "    else:\n",
    "        index = (n // NUMBER_OF_CLASSES) * c\n",
    "        split_values.append(os[index - 1])\n",
    "\n",
    "list_data_split = []\n",
    "for c in range(NUMBER_OF_CLASSES):\n",
    "    list_data_split.append([])\n",
    "    for d in list_of_Data:\n",
    "        if  (c == 0 and int(d.y) <= split_values[c]) or \\\n",
    "            (c > 0 and int(d.y) <= split_values[c] and int(d.y) > split_values[c-1]):\n",
    "            list_data_split[c].append(d)"
   ]
  },
  {
   "cell_type": "code",
   "execution_count": null,
   "metadata": {},
   "outputs": [
    {
     "name": "stdout",
     "output_type": "stream",
     "text": [
      "Total dimension: 30\n",
      "Class 1: 10\n",
      "os:\t583\t189\t24\t83\t608\t379\t515\t562\t129\t186\n",
      "Class 2: 10\n",
      "os:\t1163\t871\t863\t1024\t1104\t676\t788\t636\t1103\t1089\n",
      "Class 3: 10\n",
      "os:\t4624\t1815\t1355\t1688\t1955\t2049\t1484\t1213\t1229\t2097\n",
      "\n",
      "\n",
      "Complete OS [24, 83, 129, 186, 189, 379, 515, 562, 583, 608, 636, 676, 788, 863, 871, 1024, 1089, 1103, 1104, 1163, 1213, 1229, 1355, 1484, 1688, 1815, 1955, 2049, 2097, 4624]\n"
     ]
    }
   ],
   "source": [
    "print(f\"Total dimension: {len(list_of_Data)}\")\n",
    "for c in range(NUMBER_OF_CLASSES):\n",
    "    print(f\"Class {c + 1}: {len(list_data_split[c])}\")\n",
    "    print(\"os:\", end=\"\")\n",
    "    for d in list_data_split[c]:\n",
    "        print(f\"\\t{d.y}\", end=\"\")\n",
    "    print(\"\")\n",
    "\n",
    "print(f\"\\n\\nComplete OS {os}\")"
   ]
  },
  {
   "cell_type": "markdown",
   "metadata": {},
   "source": [
    "### Now actually split in Test and Train"
   ]
  },
  {
   "cell_type": "code",
   "execution_count": null,
   "metadata": {},
   "outputs": [],
   "source": [
    "train_list = []\n",
    "test_list = []\n",
    "\n",
    "if PERCENTAGE_OF_TEST > 0:\n",
    "    test_interval = np.floor(1 / PERCENTAGE_OF_TEST)\n",
    "else:\n",
    "    test_interval = len(list_of_Data) + 1 # we'll never reach it.\n",
    "# print(test_interval)\n",
    "\n",
    "for class_list in list_data_split:\n",
    "    count = 1\n",
    "    for d in class_list:\n",
    "        if count >= test_interval:\n",
    "            test_list.append(d)\n",
    "            count = 0\n",
    "        else:\n",
    "            train_list.append(d)\n",
    "        count += 1"
   ]
  },
  {
   "cell_type": "markdown",
   "metadata": {},
   "source": []
  },
  {
   "cell_type": "code",
   "execution_count": null,
   "metadata": {},
   "outputs": [
    {
     "name": "stdout",
     "output_type": "stream",
     "text": [
      "### Train ###\n",
      "\tFor class 1 we have 7 elements\n",
      "\tFor class 2 we have 7 elements\n",
      "\tFor class 3 we have 7 elements\n",
      "### Test ###\n",
      "\tFor class 1 we have 3 elements\n",
      "\tFor class 2 we have 3 elements\n",
      "\tFor class 3 we have 3 elements\n"
     ]
    }
   ],
   "source": [
    "# Check results\n",
    "\n",
    "print(\"### Train ###\")\n",
    "for c in range(NUMBER_OF_CLASSES):\n",
    "    count = 0\n",
    "    for d in train_list:\n",
    "        if  (c == 0 and int(d.y) <= split_values[c]) or \\\n",
    "            (c > 0 and int(d.y) <= split_values[c] and int(d.y) > split_values[c-1]):\n",
    "            count += 1\n",
    "    print(f\"\\tFor class {c + 1} we have {count} elements\")\n",
    "\n",
    "print(\"### Test ###\")\n",
    "for c in range(NUMBER_OF_CLASSES):\n",
    "    count = 0\n",
    "    for d in test_list:\n",
    "        if  (c == 0 and int(d.y) <= split_values[c]) or \\\n",
    "            (c > 0 and int(d.y) <= split_values[c] and int(d.y) > split_values[c-1]):\n",
    "            count += 1\n",
    "    print(f\"\\tFor class {c + 1} we have {count} elements\")"
   ]
  },
  {
   "cell_type": "code",
   "execution_count": null,
   "metadata": {},
   "outputs": [],
   "source": []
  }
 ],
 "metadata": {
  "kernelspec": {
   "display_name": "base",
   "language": "python",
   "name": "python3"
  },
  "language_info": {
   "codemirror_mode": {
    "name": "ipython",
    "version": 3
   },
   "file_extension": ".py",
   "mimetype": "text/x-python",
   "name": "python",
   "nbconvert_exporter": "python",
   "pygments_lexer": "ipython3",
   "version": "3.9.13"
  }
 },
 "nbformat": 4,
 "nbformat_minor": 2
}
