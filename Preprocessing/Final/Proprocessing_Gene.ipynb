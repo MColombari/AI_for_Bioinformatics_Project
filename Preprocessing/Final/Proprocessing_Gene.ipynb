{
 "cells": [
  {
   "cell_type": "markdown",
   "metadata": {},
   "source": [
    "# Get relevant gene list."
   ]
  },
  {
   "cell_type": "markdown",
   "metadata": {},
   "source": [
    "### Read and manipulate gtf file"
   ]
  },
  {
   "cell_type": "code",
   "execution_count": 35,
   "metadata": {},
   "outputs": [],
   "source": [
    "import pandas as pd\n",
    "import re\n",
    "import numpy as np\n",
    "import json"
   ]
  },
  {
   "cell_type": "code",
   "execution_count": 36,
   "metadata": {},
   "outputs": [],
   "source": [
    "PATH_GTF_FILE = \"/homes/mcolombari/AI_for_Bioinformatics_Project/Personal/gencode.v47.annotation.gtf\"\n",
    "OUTPUT_FOLDER_GENE_ID = \".\"\n",
    "SAVE_GENE_ID = True"
   ]
  },
  {
   "cell_type": "code",
   "execution_count": 37,
   "metadata": {},
   "outputs": [],
   "source": [
    "gtf = pd.read_csv(PATH_GTF_FILE, sep=\"\\t\", header=None, comment='#')"
   ]
  },
  {
   "cell_type": "code",
   "execution_count": 38,
   "metadata": {},
   "outputs": [
    {
     "name": "stdout",
     "output_type": "stream",
     "text": [
      "        seqname   source     feature  start    end score strand frame  \\\n",
      "0          chr1   HAVANA        gene  11121  24894     .      +     .   \n",
      "1          chr1   HAVANA  transcript  11121  14413     .      +     .   \n",
      "2          chr1   HAVANA        exon  11121  11211     .      +     .   \n",
      "3          chr1   HAVANA        exon  12010  12227     .      +     .   \n",
      "4          chr1   HAVANA        exon  12613  12721     .      +     .   \n",
      "...         ...      ...         ...    ...    ...   ...    ...   ...   \n",
      "4105480    chrM  ENSEMBL  transcript  15888  15953     .      +     .   \n",
      "4105481    chrM  ENSEMBL        exon  15888  15953     .      +     .   \n",
      "4105482    chrM  ENSEMBL        gene  15956  16023     .      -     .   \n",
      "4105483    chrM  ENSEMBL  transcript  15956  16023     .      -     .   \n",
      "4105484    chrM  ENSEMBL        exon  15956  16023     .      -     .   \n",
      "\n",
      "                   gene_id gene_type  \n",
      "0        ENSG00000290825.2    lncRNA  \n",
      "1        ENSG00000290825.2    lncRNA  \n",
      "2        ENSG00000290825.2    lncRNA  \n",
      "3        ENSG00000290825.2    lncRNA  \n",
      "4        ENSG00000290825.2    lncRNA  \n",
      "...                    ...       ...  \n",
      "4105480  ENSG00000210195.2   Mt_tRNA  \n",
      "4105481  ENSG00000210195.2   Mt_tRNA  \n",
      "4105482  ENSG00000210196.2   Mt_tRNA  \n",
      "4105483  ENSG00000210196.2   Mt_tRNA  \n",
      "4105484  ENSG00000210196.2   Mt_tRNA  \n",
      "\n",
      "[4105485 rows x 10 columns]\n"
     ]
    }
   ],
   "source": [
    "gtf.columns = ['seqname', 'source', 'feature', 'start', 'end', 'score', 'strand', 'frame', 'attribute']\n",
    "\n",
    "parameters = ['gene_id', 'gene_type']\n",
    "for p in parameters:\n",
    "    gtf[p] = gtf['attribute'].apply(lambda x: re.findall(rf'{p} \"([^\"]*)\"', x)[0] if rf'{p} \"' in x else np.nan)\n",
    "\n",
    "gtf.drop('attribute', axis=1, inplace=True)\n",
    "\n",
    "print(gtf)"
   ]
  },
  {
   "cell_type": "code",
   "execution_count": 39,
   "metadata": {},
   "outputs": [
    {
     "name": "stdout",
     "output_type": "stream",
     "text": [
      "Index(['seqname', 'source', 'feature', 'start', 'end', 'score', 'strand',\n",
      "       'frame', 'gene_id', 'gene_type'],\n",
      "      dtype='object')\n"
     ]
    }
   ],
   "source": [
    "print(gtf.columns)"
   ]
  },
  {
   "cell_type": "code",
   "execution_count": 40,
   "metadata": {},
   "outputs": [
    {
     "name": "stdout",
     "output_type": "stream",
     "text": [
      "        seqname   source      feature  start    end score strand frame  \\\n",
      "2486       chr1   HAVANA         gene  65419  71585     .      +     .   \n",
      "2487       chr1   HAVANA   transcript  65419  71585     .      +     .   \n",
      "2488       chr1   HAVANA         exon  65419  65433     .      +     .   \n",
      "2489       chr1   HAVANA         exon  65520  65573     .      +     .   \n",
      "2490       chr1   HAVANA          CDS  65565  65573     .      +     0   \n",
      "...         ...      ...          ...    ...    ...   ...    ...   ...   \n",
      "4105474    chrM  ENSEMBL         gene  14747  15887     .      +     .   \n",
      "4105475    chrM  ENSEMBL   transcript  14747  15887     .      +     .   \n",
      "4105476    chrM  ENSEMBL         exon  14747  15887     .      +     .   \n",
      "4105477    chrM  ENSEMBL          CDS  14747  15887     .      +     0   \n",
      "4105478    chrM  ENSEMBL  start_codon  14747  14749     .      +     0   \n",
      "\n",
      "                   gene_id       gene_type  \n",
      "2486     ENSG00000186092.7  protein_coding  \n",
      "2487     ENSG00000186092.7  protein_coding  \n",
      "2488     ENSG00000186092.7  protein_coding  \n",
      "2489     ENSG00000186092.7  protein_coding  \n",
      "2490     ENSG00000186092.7  protein_coding  \n",
      "...                    ...             ...  \n",
      "4105474  ENSG00000198727.2  protein_coding  \n",
      "4105475  ENSG00000198727.2  protein_coding  \n",
      "4105476  ENSG00000198727.2  protein_coding  \n",
      "4105477  ENSG00000198727.2  protein_coding  \n",
      "4105478  ENSG00000198727.2  protein_coding  \n",
      "\n",
      "[3087002 rows x 10 columns]\n"
     ]
    }
   ],
   "source": [
    "gtf_pc = gtf[gtf['gene_type'] == 'protein_coding']\n",
    "print(gtf_pc)"
   ]
  },
  {
   "cell_type": "markdown",
   "metadata": {},
   "source": [
    "### Save Gene id relative to the protein coding"
   ]
  },
  {
   "cell_type": "code",
   "execution_count": 41,
   "metadata": {},
   "outputs": [
    {
     "name": "stdout",
     "output_type": "stream",
     "text": [
      "20092\n"
     ]
    }
   ],
   "source": [
    "gtf_pc_set = set(gtf_pc['gene_id'].to_list())\n",
    "print(len(gtf_pc_set))"
   ]
  },
  {
   "cell_type": "markdown",
   "metadata": {},
   "source": [
    "Value in output match with the stimated gene with are proteine coding.\n",
    "source: [link](https://www.genome.gov/genetics-glossary/Gene#:~:text=And%20genes%20are%20the%20part,of%20the%20entire%20human%20genome.)"
   ]
  },
  {
   "cell_type": "code",
   "execution_count": 42,
   "metadata": {},
   "outputs": [],
   "source": [
    "if SAVE_GENE_ID:\n",
    "    with open(OUTPUT_FOLDER_GENE_ID + \"/\" + 'gene_id_protein_coding.json', 'w', encoding='utf-8') as f:\n",
    "        json.dump(list(gtf_pc_set), f, ensure_ascii=False, indent=4) "
   ]
  },
  {
   "cell_type": "markdown",
   "metadata": {},
   "source": [
    "# Actual proprocessing"
   ]
  },
  {
   "cell_type": "markdown",
   "metadata": {},
   "source": [
    "### Now parse load the data and parse it"
   ]
  },
  {
   "cell_type": "code",
   "execution_count": 46,
   "metadata": {},
   "outputs": [],
   "source": [
    "import torch\n",
    "import os"
   ]
  },
  {
   "cell_type": "code",
   "execution_count": 47,
   "metadata": {},
   "outputs": [],
   "source": [
    "PATH_FOLDER_GENE = \"/work/h2020deciderficarra_shared/TCGA/OV/project_n16_data/GeneExpression\"\n",
    "PATH_CASE_ID_STRUCTURE = \"./case_id_and_structure.json\""
   ]
  },
  {
   "cell_type": "code",
   "execution_count": 48,
   "metadata": {},
   "outputs": [],
   "source": [
    "with open(PATH_CASE_ID_STRUCTURE, 'r') as file:\n",
    "    file_parsed = json.load(file)"
   ]
  },
  {
   "cell_type": "code",
   "execution_count": 53,
   "metadata": {},
   "outputs": [],
   "source": [
    "file_to_case_id = dict((file_parsed[k]['files']['gene'], k) for k in file_parsed.keys())\n",
    "file_to_os = dict((file_parsed[k]['files']['gene'], file_parsed[k]['os']) for k in file_parsed.keys())"
   ]
  },
  {
   "cell_type": "code",
   "execution_count": 67,
   "metadata": {},
   "outputs": [],
   "source": [
    "datastructure = pd.DataFrame(columns=['case_id', 'os', 'values'])\n",
    "\n",
    "# All possibilitys.\n",
    "# feature_to_save = [\n",
    "#     'unstranded', 'stranded_first', 'stranded_second',\n",
    "#     'tpm_unstranded', 'fpkm_unstranded', 'fpkm_uq_unstranded'\n",
    "#     ]\n",
    "feature_to_save = ['unstranded']\n",
    "\n",
    "index = 0\n",
    "# Now explore data path to get the right files\n",
    "for root, dirs, files in os.walk(PATH_FOLDER_GENE):\n",
    "    for dir in dirs:\n",
    "        for root, dirs, files in os.walk(PATH_FOLDER_GENE + \"/\" + dir):\n",
    "            for file in files:\n",
    "                if file in file_to_case_id.keys():\n",
    "                    parsed_file = pd.read_csv(PATH_FOLDER_GENE + \"/\" + dir + \"/\" + file,\n",
    "                                              sep='\\t', header=0, skiprows=lambda x: x in [0, 2, 3, 4, 5])\n",
    "                    parsed_file = parsed_file[['gene_id'] + feature_to_save]\n",
    "                    \n",
    "                    # They actually don't match.\n",
    "                    # So the 'gene_type' in the dataset don't match the in the gtf file.\n",
    "                    # So i'm gonna use as the right reference the gtf file.\n",
    "\n",
    "                    # parsed_file = parsed_file[parsed_file['gene_type'] == 'protein_coding']\n",
    "                    # if not set(parsed_file['gene_id']).issubset(gtf_pc_set):\n",
    "                    #     raise Exception(\"List of coding genes don't match.\")\n",
    "\n",
    "                    parsed_file = parsed_file[parsed_file['gene_id'].isin(gtf_pc_set)]\n",
    "\n",
    "                    datastructure.loc[index] = [\n",
    "                        file_to_case_id[file],\n",
    "                        file_to_os[file],\n",
    "                        parsed_file\n",
    "                    ]\n",
    "                    index += 1"
   ]
  },
  {
   "cell_type": "code",
   "execution_count": 68,
   "metadata": {},
   "outputs": [
    {
     "data": {
      "text/html": [
       "<div>\n",
       "<style scoped>\n",
       "    .dataframe tbody tr th:only-of-type {\n",
       "        vertical-align: middle;\n",
       "    }\n",
       "\n",
       "    .dataframe tbody tr th {\n",
       "        vertical-align: top;\n",
       "    }\n",
       "\n",
       "    .dataframe thead th {\n",
       "        text-align: right;\n",
       "    }\n",
       "</style>\n",
       "<table border=\"1\" class=\"dataframe\">\n",
       "  <thead>\n",
       "    <tr style=\"text-align: right;\">\n",
       "      <th></th>\n",
       "      <th>gene_id</th>\n",
       "      <th>unstranded</th>\n",
       "    </tr>\n",
       "  </thead>\n",
       "  <tbody>\n",
       "    <tr>\n",
       "      <th>1</th>\n",
       "      <td>ENSG00000000005.6</td>\n",
       "      <td>2</td>\n",
       "    </tr>\n",
       "    <tr>\n",
       "      <th>3</th>\n",
       "      <td>ENSG00000000457.14</td>\n",
       "      <td>882</td>\n",
       "    </tr>\n",
       "    <tr>\n",
       "      <th>4</th>\n",
       "      <td>ENSG00000000460.17</td>\n",
       "      <td>427</td>\n",
       "    </tr>\n",
       "    <tr>\n",
       "      <th>5</th>\n",
       "      <td>ENSG00000000938.13</td>\n",
       "      <td>195</td>\n",
       "    </tr>\n",
       "    <tr>\n",
       "      <th>7</th>\n",
       "      <td>ENSG00000001036.14</td>\n",
       "      <td>1727</td>\n",
       "    </tr>\n",
       "    <tr>\n",
       "      <th>...</th>\n",
       "      <td>...</td>\n",
       "      <td>...</td>\n",
       "    </tr>\n",
       "    <tr>\n",
       "      <th>60650</th>\n",
       "      <td>ENSG00000288661.1</td>\n",
       "      <td>0</td>\n",
       "    </tr>\n",
       "    <tr>\n",
       "      <th>60655</th>\n",
       "      <td>ENSG00000288669.1</td>\n",
       "      <td>0</td>\n",
       "    </tr>\n",
       "    <tr>\n",
       "      <th>60657</th>\n",
       "      <td>ENSG00000288671.1</td>\n",
       "      <td>0</td>\n",
       "    </tr>\n",
       "    <tr>\n",
       "      <th>60658</th>\n",
       "      <td>ENSG00000288674.1</td>\n",
       "      <td>7</td>\n",
       "    </tr>\n",
       "    <tr>\n",
       "      <th>60659</th>\n",
       "      <td>ENSG00000288675.1</td>\n",
       "      <td>37</td>\n",
       "    </tr>\n",
       "  </tbody>\n",
       "</table>\n",
       "<p>14168 rows × 2 columns</p>\n",
       "</div>"
      ],
      "text/plain": [
       "                  gene_id  unstranded\n",
       "1       ENSG00000000005.6           2\n",
       "3      ENSG00000000457.14         882\n",
       "4      ENSG00000000460.17         427\n",
       "5      ENSG00000000938.13         195\n",
       "7      ENSG00000001036.14        1727\n",
       "...                   ...         ...\n",
       "60650   ENSG00000288661.1           0\n",
       "60655   ENSG00000288669.1           0\n",
       "60657   ENSG00000288671.1           0\n",
       "60658   ENSG00000288674.1           7\n",
       "60659   ENSG00000288675.1          37\n",
       "\n",
       "[14168 rows x 2 columns]"
      ]
     },
     "execution_count": 68,
     "metadata": {},
     "output_type": "execute_result"
    }
   ],
   "source": [
    "datastructure.loc[0]['values']"
   ]
  },
  {
   "cell_type": "code",
   "execution_count": null,
   "metadata": {},
   "outputs": [],
   "source": []
  }
 ],
 "metadata": {
  "kernelspec": {
   "display_name": "base",
   "language": "python",
   "name": "python3"
  },
  "language_info": {
   "codemirror_mode": {
    "name": "ipython",
    "version": 3
   },
   "file_extension": ".py",
   "mimetype": "text/x-python",
   "name": "python",
   "nbconvert_exporter": "python",
   "pygments_lexer": "ipython3",
   "version": "3.9.13"
  }
 },
 "nbformat": 4,
 "nbformat_minor": 2
}
