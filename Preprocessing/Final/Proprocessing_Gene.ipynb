{
 "cells": [
  {
   "cell_type": "markdown",
   "metadata": {},
   "source": [
    "# Get relevant gene list."
   ]
  },
  {
   "cell_type": "markdown",
   "metadata": {},
   "source": [
    "### Read and manipulate gtf file"
   ]
  },
  {
   "cell_type": "code",
   "execution_count": 2,
   "metadata": {},
   "outputs": [],
   "source": [
    "import pandas as pd\n",
    "import re\n",
    "import numpy as np\n",
    "import json"
   ]
  },
  {
   "cell_type": "code",
   "execution_count": 3,
   "metadata": {},
   "outputs": [],
   "source": [
    "PATH_GTF_FILE = \"/homes/mcolombari/AI_for_Bioinformatics_Project/Personal/gencode.v47.annotation.gtf\"\n",
    "OUTPUT_FOLDER_GENE_ID = \".\"\n",
    "SAVE_GENE_ID = True"
   ]
  },
  {
   "cell_type": "code",
   "execution_count": 4,
   "metadata": {},
   "outputs": [],
   "source": [
    "gtf = pd.read_csv(PATH_GTF_FILE, sep=\"\\t\", header=None, comment='#')"
   ]
  },
  {
   "cell_type": "code",
   "execution_count": 5,
   "metadata": {},
   "outputs": [
    {
     "name": "stdout",
     "output_type": "stream",
     "text": [
      "        seqname   source     feature  start    end score strand frame  \\\n",
      "0          chr1   HAVANA        gene  11121  24894     .      +     .   \n",
      "1          chr1   HAVANA  transcript  11121  14413     .      +     .   \n",
      "2          chr1   HAVANA        exon  11121  11211     .      +     .   \n",
      "3          chr1   HAVANA        exon  12010  12227     .      +     .   \n",
      "4          chr1   HAVANA        exon  12613  12721     .      +     .   \n",
      "...         ...      ...         ...    ...    ...   ...    ...   ...   \n",
      "4105480    chrM  ENSEMBL  transcript  15888  15953     .      +     .   \n",
      "4105481    chrM  ENSEMBL        exon  15888  15953     .      +     .   \n",
      "4105482    chrM  ENSEMBL        gene  15956  16023     .      -     .   \n",
      "4105483    chrM  ENSEMBL  transcript  15956  16023     .      -     .   \n",
      "4105484    chrM  ENSEMBL        exon  15956  16023     .      -     .   \n",
      "\n",
      "                   gene_id gene_type  \n",
      "0        ENSG00000290825.2    lncRNA  \n",
      "1        ENSG00000290825.2    lncRNA  \n",
      "2        ENSG00000290825.2    lncRNA  \n",
      "3        ENSG00000290825.2    lncRNA  \n",
      "4        ENSG00000290825.2    lncRNA  \n",
      "...                    ...       ...  \n",
      "4105480  ENSG00000210195.2   Mt_tRNA  \n",
      "4105481  ENSG00000210195.2   Mt_tRNA  \n",
      "4105482  ENSG00000210196.2   Mt_tRNA  \n",
      "4105483  ENSG00000210196.2   Mt_tRNA  \n",
      "4105484  ENSG00000210196.2   Mt_tRNA  \n",
      "\n",
      "[4105485 rows x 10 columns]\n"
     ]
    }
   ],
   "source": [
    "gtf.columns = ['seqname', 'source', 'feature', 'start', 'end', 'score', 'strand', 'frame', 'attribute']\n",
    "\n",
    "parameters = ['gene_id', 'gene_type']\n",
    "for p in parameters:\n",
    "    gtf[p] = gtf['attribute'].apply(lambda x: re.findall(rf'{p} \"([^\"]*)\"', x)[0] if rf'{p} \"' in x else np.nan)\n",
    "\n",
    "gtf.drop('attribute', axis=1, inplace=True)\n",
    "\n",
    "print(gtf)"
   ]
  },
  {
   "cell_type": "code",
   "execution_count": 6,
   "metadata": {},
   "outputs": [
    {
     "name": "stdout",
     "output_type": "stream",
     "text": [
      "Index(['seqname', 'source', 'feature', 'start', 'end', 'score', 'strand',\n",
      "       'frame', 'gene_id', 'gene_type'],\n",
      "      dtype='object')\n"
     ]
    }
   ],
   "source": [
    "print(gtf.columns)"
   ]
  },
  {
   "cell_type": "code",
   "execution_count": 7,
   "metadata": {},
   "outputs": [
    {
     "name": "stdout",
     "output_type": "stream",
     "text": [
      "        seqname   source      feature  start    end score strand frame  \\\n",
      "2486       chr1   HAVANA         gene  65419  71585     .      +     .   \n",
      "2487       chr1   HAVANA   transcript  65419  71585     .      +     .   \n",
      "2488       chr1   HAVANA         exon  65419  65433     .      +     .   \n",
      "2489       chr1   HAVANA         exon  65520  65573     .      +     .   \n",
      "2490       chr1   HAVANA          CDS  65565  65573     .      +     0   \n",
      "...         ...      ...          ...    ...    ...   ...    ...   ...   \n",
      "4105474    chrM  ENSEMBL         gene  14747  15887     .      +     .   \n",
      "4105475    chrM  ENSEMBL   transcript  14747  15887     .      +     .   \n",
      "4105476    chrM  ENSEMBL         exon  14747  15887     .      +     .   \n",
      "4105477    chrM  ENSEMBL          CDS  14747  15887     .      +     0   \n",
      "4105478    chrM  ENSEMBL  start_codon  14747  14749     .      +     0   \n",
      "\n",
      "                   gene_id       gene_type  \n",
      "2486     ENSG00000186092.7  protein_coding  \n",
      "2487     ENSG00000186092.7  protein_coding  \n",
      "2488     ENSG00000186092.7  protein_coding  \n",
      "2489     ENSG00000186092.7  protein_coding  \n",
      "2490     ENSG00000186092.7  protein_coding  \n",
      "...                    ...             ...  \n",
      "4105474  ENSG00000198727.2  protein_coding  \n",
      "4105475  ENSG00000198727.2  protein_coding  \n",
      "4105476  ENSG00000198727.2  protein_coding  \n",
      "4105477  ENSG00000198727.2  protein_coding  \n",
      "4105478  ENSG00000198727.2  protein_coding  \n",
      "\n",
      "[3087002 rows x 10 columns]\n"
     ]
    }
   ],
   "source": [
    "gtf_pc = gtf[gtf['gene_type'] == 'protein_coding']\n",
    "print(gtf_pc)"
   ]
  },
  {
   "cell_type": "markdown",
   "metadata": {},
   "source": [
    "### Save Gene id relative to the protein coding"
   ]
  },
  {
   "cell_type": "code",
   "execution_count": 8,
   "metadata": {},
   "outputs": [
    {
     "name": "stdout",
     "output_type": "stream",
     "text": [
      "20092\n"
     ]
    }
   ],
   "source": [
    "gtf_pc_set = set(gtf_pc['gene_id'].to_list())\n",
    "print(len(gtf_pc_set))"
   ]
  },
  {
   "cell_type": "markdown",
   "metadata": {},
   "source": [
    "Value in output match with the stimated gene with are proteine coding.\n",
    "source: [link](https://www.genome.gov/genetics-glossary/Gene#:~:text=And%20genes%20are%20the%20part,of%20the%20entire%20human%20genome.)"
   ]
  },
  {
   "cell_type": "code",
   "execution_count": 9,
   "metadata": {},
   "outputs": [],
   "source": [
    "if SAVE_GENE_ID:\n",
    "    with open(OUTPUT_FOLDER_GENE_ID + \"/\" + 'gene_id_protein_coding.json', 'w', encoding='utf-8') as f:\n",
    "        json.dump(list(gtf_pc_set), f, ensure_ascii=False, indent=4) "
   ]
  },
  {
   "cell_type": "markdown",
   "metadata": {},
   "source": [
    "# Actual proprocessing"
   ]
  },
  {
   "cell_type": "markdown",
   "metadata": {},
   "source": [
    "### Now parse load the data and parse it"
   ]
  },
  {
   "cell_type": "code",
   "execution_count": 10,
   "metadata": {},
   "outputs": [],
   "source": [
    "import torch\n",
    "import os"
   ]
  },
  {
   "cell_type": "code",
   "execution_count": 11,
   "metadata": {},
   "outputs": [],
   "source": [
    "PATH_FOLDER_GENE = \"/work/h2020deciderficarra_shared/TCGA/OV/project_n16_data/GeneExpression\"\n",
    "PATH_CASE_ID_STRUCTURE = \"./case_id_and_structure.json\""
   ]
  },
  {
   "cell_type": "code",
   "execution_count": 12,
   "metadata": {},
   "outputs": [],
   "source": [
    "with open(PATH_CASE_ID_STRUCTURE, 'r') as file:\n",
    "    file_parsed = json.load(file)"
   ]
  },
  {
   "cell_type": "code",
   "execution_count": 13,
   "metadata": {},
   "outputs": [],
   "source": [
    "file_to_case_id = dict((file_parsed[k]['files']['gene'], k) for k in file_parsed.keys())\n",
    "file_to_os = dict((file_parsed[k]['files']['gene'], file_parsed[k]['os']) for k in file_parsed.keys())"
   ]
  },
  {
   "cell_type": "markdown",
   "metadata": {},
   "source": [
    "Some resources to understand which feature to use:\n",
    "- [Doc GDC](https://docs.gdc.cancer.gov/Data/Bioinformatics_Pipelines/Expression_mRNA_Pipeline/#introduction)"
   ]
  },
  {
   "cell_type": "code",
   "execution_count": 14,
   "metadata": {},
   "outputs": [],
   "source": [
    "datastructure = pd.DataFrame(columns=['case_id', 'os', 'values'])\n",
    "\n",
    "# All possibilitys.\n",
    "feature_to_save = [\n",
    "    'unstranded', 'stranded_first', 'stranded_second',\n",
    "    'tpm_unstranded', 'fpkm_unstranded', 'fpkm_uq_unstranded'\n",
    "    ]\n",
    "# feature_to_save = ['unstranded']\n",
    "\n",
    "index = 0\n",
    "# Now explore data path to get the right files\n",
    "for root, dirs, files in os.walk(PATH_FOLDER_GENE):\n",
    "    for dir in dirs:\n",
    "        for root, dirs, files in os.walk(PATH_FOLDER_GENE + \"/\" + dir):\n",
    "            for file in files:\n",
    "                if file in file_to_case_id.keys():\n",
    "                    parsed_file = pd.read_csv(PATH_FOLDER_GENE + \"/\" + dir + \"/\" + file,\n",
    "                                              sep='\\t', header=0, skiprows=lambda x: x in [0, 2, 3, 4, 5])\n",
    "                    parsed_file = parsed_file[['gene_id'] + feature_to_save]\n",
    "\n",
    "                    # Now specify columns type.\n",
    "                    convert_dict = dict([(k, float) for k in feature_to_save])\n",
    "                    convert_dict['gene_id'] = str\n",
    "                    parsed_file = parsed_file.astype(convert_dict)\n",
    "                    \n",
    "                    # They actually don't match.\n",
    "                    # So the 'gene_type' in the dataset don't match the in the gtf file.\n",
    "                    # So i'm gonna use as the right reference the gtf file.\n",
    "\n",
    "                    # parsed_file = parsed_file[parsed_file['gene_type'] == 'protein_coding']\n",
    "                    # if not set(parsed_file['gene_id']).issubset(gtf_pc_set):\n",
    "                    #     raise Exception(\"List of coding genes don't match.\")\n",
    "\n",
    "                    parsed_file = parsed_file[parsed_file['gene_id'].isin(gtf_pc_set)]\n",
    "\n",
    "                    datastructure.loc[index] = [\n",
    "                        file_to_case_id[file],\n",
    "                        file_to_os[file],\n",
    "                        parsed_file\n",
    "                    ]\n",
    "                    index += 1"
   ]
  },
  {
   "cell_type": "code",
   "execution_count": 15,
   "metadata": {},
   "outputs": [
    {
     "name": "stdout",
     "output_type": "stream",
     "text": [
      "Max: 14168\n",
      "Min: 14168\n",
      "Mean: 14168.0\n"
     ]
    }
   ],
   "source": [
    "sizes = [datastructure.loc[i]['values'].shape[0] for i in range(datastructure.shape[0])]\n",
    "print(f\"Max: {max(sizes)}\")\n",
    "print(f\"Min: {min(sizes)}\")\n",
    "print(f\"Mean: {sum(sizes) / len(sizes)}\")"
   ]
  },
  {
   "cell_type": "markdown",
   "metadata": {},
   "source": [
    "### Apply data transformation"
   ]
  },
  {
   "cell_type": "code",
   "execution_count": 16,
   "metadata": {},
   "outputs": [
    {
     "data": {
      "text/html": [
       "<div>\n",
       "<style scoped>\n",
       "    .dataframe tbody tr th:only-of-type {\n",
       "        vertical-align: middle;\n",
       "    }\n",
       "\n",
       "    .dataframe tbody tr th {\n",
       "        vertical-align: top;\n",
       "    }\n",
       "\n",
       "    .dataframe thead th {\n",
       "        text-align: right;\n",
       "    }\n",
       "</style>\n",
       "<table border=\"1\" class=\"dataframe\">\n",
       "  <thead>\n",
       "    <tr style=\"text-align: right;\">\n",
       "      <th></th>\n",
       "      <th>unstranded</th>\n",
       "      <th>stranded_first</th>\n",
       "      <th>stranded_second</th>\n",
       "      <th>tpm_unstranded</th>\n",
       "      <th>fpkm_unstranded</th>\n",
       "      <th>fpkm_uq_unstranded</th>\n",
       "    </tr>\n",
       "  </thead>\n",
       "  <tbody>\n",
       "    <tr>\n",
       "      <th>1</th>\n",
       "      <td>2.0</td>\n",
       "      <td>2.0</td>\n",
       "      <td>0.0</td>\n",
       "      <td>0.0683</td>\n",
       "      <td>0.0246</td>\n",
       "      <td>0.0320</td>\n",
       "    </tr>\n",
       "    <tr>\n",
       "      <th>3</th>\n",
       "      <td>882.0</td>\n",
       "      <td>743.0</td>\n",
       "      <td>765.0</td>\n",
       "      <td>6.4589</td>\n",
       "      <td>2.3275</td>\n",
       "      <td>3.0306</td>\n",
       "    </tr>\n",
       "    <tr>\n",
       "      <th>4</th>\n",
       "      <td>427.0</td>\n",
       "      <td>572.0</td>\n",
       "      <td>522.0</td>\n",
       "      <td>3.6051</td>\n",
       "      <td>1.2991</td>\n",
       "      <td>1.6916</td>\n",
       "    </tr>\n",
       "    <tr>\n",
       "      <th>5</th>\n",
       "      <td>195.0</td>\n",
       "      <td>96.0</td>\n",
       "      <td>99.0</td>\n",
       "      <td>2.9062</td>\n",
       "      <td>1.0473</td>\n",
       "      <td>1.3636</td>\n",
       "    </tr>\n",
       "    <tr>\n",
       "      <th>7</th>\n",
       "      <td>1727.0</td>\n",
       "      <td>1281.0</td>\n",
       "      <td>1263.0</td>\n",
       "      <td>30.8464</td>\n",
       "      <td>11.1158</td>\n",
       "      <td>14.4736</td>\n",
       "    </tr>\n",
       "    <tr>\n",
       "      <th>...</th>\n",
       "      <td>...</td>\n",
       "      <td>...</td>\n",
       "      <td>...</td>\n",
       "      <td>...</td>\n",
       "      <td>...</td>\n",
       "      <td>...</td>\n",
       "    </tr>\n",
       "    <tr>\n",
       "      <th>60650</th>\n",
       "      <td>0.0</td>\n",
       "      <td>0.0</td>\n",
       "      <td>0.0</td>\n",
       "      <td>0.0000</td>\n",
       "      <td>0.0000</td>\n",
       "      <td>0.0000</td>\n",
       "    </tr>\n",
       "    <tr>\n",
       "      <th>60655</th>\n",
       "      <td>0.0</td>\n",
       "      <td>0.0</td>\n",
       "      <td>0.0</td>\n",
       "      <td>0.0000</td>\n",
       "      <td>0.0000</td>\n",
       "      <td>0.0000</td>\n",
       "    </tr>\n",
       "    <tr>\n",
       "      <th>60657</th>\n",
       "      <td>0.0</td>\n",
       "      <td>0.0</td>\n",
       "      <td>0.0</td>\n",
       "      <td>0.0000</td>\n",
       "      <td>0.0000</td>\n",
       "      <td>0.0000</td>\n",
       "    </tr>\n",
       "    <tr>\n",
       "      <th>60658</th>\n",
       "      <td>7.0</td>\n",
       "      <td>5.0</td>\n",
       "      <td>2.0</td>\n",
       "      <td>0.0367</td>\n",
       "      <td>0.0132</td>\n",
       "      <td>0.0172</td>\n",
       "    </tr>\n",
       "    <tr>\n",
       "      <th>60659</th>\n",
       "      <td>37.0</td>\n",
       "      <td>58.0</td>\n",
       "      <td>53.0</td>\n",
       "      <td>1.1101</td>\n",
       "      <td>0.4000</td>\n",
       "      <td>0.5209</td>\n",
       "    </tr>\n",
       "  </tbody>\n",
       "</table>\n",
       "<p>14168 rows × 6 columns</p>\n",
       "</div>"
      ],
      "text/plain": [
       "       unstranded  stranded_first  stranded_second  tpm_unstranded  \\\n",
       "1             2.0             2.0              0.0          0.0683   \n",
       "3           882.0           743.0            765.0          6.4589   \n",
       "4           427.0           572.0            522.0          3.6051   \n",
       "5           195.0            96.0             99.0          2.9062   \n",
       "7          1727.0          1281.0           1263.0         30.8464   \n",
       "...           ...             ...              ...             ...   \n",
       "60650         0.0             0.0              0.0          0.0000   \n",
       "60655         0.0             0.0              0.0          0.0000   \n",
       "60657         0.0             0.0              0.0          0.0000   \n",
       "60658         7.0             5.0              2.0          0.0367   \n",
       "60659        37.0            58.0             53.0          1.1101   \n",
       "\n",
       "       fpkm_unstranded  fpkm_uq_unstranded  \n",
       "1               0.0246              0.0320  \n",
       "3               2.3275              3.0306  \n",
       "4               1.2991              1.6916  \n",
       "5               1.0473              1.3636  \n",
       "7              11.1158             14.4736  \n",
       "...                ...                 ...  \n",
       "60650           0.0000              0.0000  \n",
       "60655           0.0000              0.0000  \n",
       "60657           0.0000              0.0000  \n",
       "60658           0.0132              0.0172  \n",
       "60659           0.4000              0.5209  \n",
       "\n",
       "[14168 rows x 6 columns]"
      ]
     },
     "execution_count": 16,
     "metadata": {},
     "output_type": "execute_result"
    }
   ],
   "source": [
    "datastructure['values'].loc[0][feature_to_save]"
   ]
  },
  {
   "cell_type": "code",
   "execution_count": 17,
   "metadata": {},
   "outputs": [],
   "source": [
    "for i in range(datastructure.shape[0]):\n",
    "    datastructure['values'].loc[i][feature_to_save] = datastructure['values'].loc[i][feature_to_save].applymap(lambda x: np.log10(x + 0.01))"
   ]
  },
  {
   "cell_type": "code",
   "execution_count": 18,
   "metadata": {},
   "outputs": [
    {
     "data": {
      "text/html": [
       "<div>\n",
       "<style scoped>\n",
       "    .dataframe tbody tr th:only-of-type {\n",
       "        vertical-align: middle;\n",
       "    }\n",
       "\n",
       "    .dataframe tbody tr th {\n",
       "        vertical-align: top;\n",
       "    }\n",
       "\n",
       "    .dataframe thead th {\n",
       "        text-align: right;\n",
       "    }\n",
       "</style>\n",
       "<table border=\"1\" class=\"dataframe\">\n",
       "  <thead>\n",
       "    <tr style=\"text-align: right;\">\n",
       "      <th></th>\n",
       "      <th>unstranded</th>\n",
       "      <th>stranded_first</th>\n",
       "      <th>stranded_second</th>\n",
       "      <th>tpm_unstranded</th>\n",
       "      <th>fpkm_unstranded</th>\n",
       "      <th>fpkm_uq_unstranded</th>\n",
       "    </tr>\n",
       "  </thead>\n",
       "  <tbody>\n",
       "    <tr>\n",
       "      <th>1</th>\n",
       "      <td>0.303196</td>\n",
       "      <td>0.303196</td>\n",
       "      <td>-2.000000</td>\n",
       "      <td>-1.106238</td>\n",
       "      <td>-1.460924</td>\n",
       "      <td>-1.376751</td>\n",
       "    </tr>\n",
       "    <tr>\n",
       "      <th>3</th>\n",
       "      <td>2.945474</td>\n",
       "      <td>2.870995</td>\n",
       "      <td>2.883667</td>\n",
       "      <td>0.810830</td>\n",
       "      <td>0.368752</td>\n",
       "      <td>0.482959</td>\n",
       "    </tr>\n",
       "    <tr>\n",
       "      <th>4</th>\n",
       "      <td>2.630438</td>\n",
       "      <td>2.757404</td>\n",
       "      <td>2.717679</td>\n",
       "      <td>0.558120</td>\n",
       "      <td>0.116973</td>\n",
       "      <td>0.230857</td>\n",
       "    </tr>\n",
       "    <tr>\n",
       "      <th>5</th>\n",
       "      <td>2.290057</td>\n",
       "      <td>1.982316</td>\n",
       "      <td>1.995679</td>\n",
       "      <td>0.464817</td>\n",
       "      <td>0.024198</td>\n",
       "      <td>0.137860</td>\n",
       "    </tr>\n",
       "    <tr>\n",
       "      <th>7</th>\n",
       "      <td>3.237295</td>\n",
       "      <td>3.107553</td>\n",
       "      <td>3.101407</td>\n",
       "      <td>1.489345</td>\n",
       "      <td>1.046331</td>\n",
       "      <td>1.160877</td>\n",
       "    </tr>\n",
       "    <tr>\n",
       "      <th>...</th>\n",
       "      <td>...</td>\n",
       "      <td>...</td>\n",
       "      <td>...</td>\n",
       "      <td>...</td>\n",
       "      <td>...</td>\n",
       "      <td>...</td>\n",
       "    </tr>\n",
       "    <tr>\n",
       "      <th>60650</th>\n",
       "      <td>-2.000000</td>\n",
       "      <td>-2.000000</td>\n",
       "      <td>-2.000000</td>\n",
       "      <td>-2.000000</td>\n",
       "      <td>-2.000000</td>\n",
       "      <td>-2.000000</td>\n",
       "    </tr>\n",
       "    <tr>\n",
       "      <th>60655</th>\n",
       "      <td>-2.000000</td>\n",
       "      <td>-2.000000</td>\n",
       "      <td>-2.000000</td>\n",
       "      <td>-2.000000</td>\n",
       "      <td>-2.000000</td>\n",
       "      <td>-2.000000</td>\n",
       "    </tr>\n",
       "    <tr>\n",
       "      <th>60657</th>\n",
       "      <td>-2.000000</td>\n",
       "      <td>-2.000000</td>\n",
       "      <td>-2.000000</td>\n",
       "      <td>-2.000000</td>\n",
       "      <td>-2.000000</td>\n",
       "      <td>-2.000000</td>\n",
       "    </tr>\n",
       "    <tr>\n",
       "      <th>60658</th>\n",
       "      <td>0.845718</td>\n",
       "      <td>0.699838</td>\n",
       "      <td>0.303196</td>\n",
       "      <td>-1.330683</td>\n",
       "      <td>-1.634512</td>\n",
       "      <td>-1.565431</td>\n",
       "    </tr>\n",
       "    <tr>\n",
       "      <th>60659</th>\n",
       "      <td>1.568319</td>\n",
       "      <td>1.763503</td>\n",
       "      <td>1.724358</td>\n",
       "      <td>0.049257</td>\n",
       "      <td>-0.387216</td>\n",
       "      <td>-0.274987</td>\n",
       "    </tr>\n",
       "  </tbody>\n",
       "</table>\n",
       "<p>14168 rows × 6 columns</p>\n",
       "</div>"
      ],
      "text/plain": [
       "       unstranded  stranded_first  stranded_second  tpm_unstranded  \\\n",
       "1        0.303196        0.303196        -2.000000       -1.106238   \n",
       "3        2.945474        2.870995         2.883667        0.810830   \n",
       "4        2.630438        2.757404         2.717679        0.558120   \n",
       "5        2.290057        1.982316         1.995679        0.464817   \n",
       "7        3.237295        3.107553         3.101407        1.489345   \n",
       "...           ...             ...              ...             ...   \n",
       "60650   -2.000000       -2.000000        -2.000000       -2.000000   \n",
       "60655   -2.000000       -2.000000        -2.000000       -2.000000   \n",
       "60657   -2.000000       -2.000000        -2.000000       -2.000000   \n",
       "60658    0.845718        0.699838         0.303196       -1.330683   \n",
       "60659    1.568319        1.763503         1.724358        0.049257   \n",
       "\n",
       "       fpkm_unstranded  fpkm_uq_unstranded  \n",
       "1            -1.460924           -1.376751  \n",
       "3             0.368752            0.482959  \n",
       "4             0.116973            0.230857  \n",
       "5             0.024198            0.137860  \n",
       "7             1.046331            1.160877  \n",
       "...                ...                 ...  \n",
       "60650        -2.000000           -2.000000  \n",
       "60655        -2.000000           -2.000000  \n",
       "60657        -2.000000           -2.000000  \n",
       "60658        -1.634512           -1.565431  \n",
       "60659        -0.387216           -0.274987  \n",
       "\n",
       "[14168 rows x 6 columns]"
      ]
     },
     "execution_count": 18,
     "metadata": {},
     "output_type": "execute_result"
    }
   ],
   "source": [
    "datastructure['values'].loc[0][feature_to_save]"
   ]
  },
  {
   "cell_type": "markdown",
   "metadata": {},
   "source": [
    "For each row i normalize between 0 and 1."
   ]
  },
  {
   "cell_type": "code",
   "execution_count": 19,
   "metadata": {},
   "outputs": [],
   "source": [
    "for r in range(datastructure.shape[0]):\n",
    "    for c in feature_to_save:\n",
    "        datastructure['values'].loc[r][c] = (datastructure['values'].loc[r][c] - datastructure['values'].loc[r][c].min()) / \\\n",
    "                                            (datastructure['values'].loc[r][c].max() - datastructure['values'].loc[r][c].min())"
   ]
  },
  {
   "cell_type": "code",
   "execution_count": 20,
   "metadata": {},
   "outputs": [
    {
     "name": "stdout",
     "output_type": "stream",
     "text": [
      "unstranded\n",
      "\tMax: 1.0\n",
      "\tMin: 0.0\n",
      "stranded_first\n",
      "\tMax: 1.0\n",
      "\tMin: 0.0\n",
      "stranded_second\n",
      "\tMax: 1.0\n",
      "\tMin: 0.0\n",
      "tpm_unstranded\n",
      "\tMax: 1.0\n",
      "\tMin: 0.0\n",
      "fpkm_unstranded\n",
      "\tMax: 1.0\n",
      "\tMin: 0.0\n",
      "fpkm_uq_unstranded\n",
      "\tMax: 1.0\n",
      "\tMin: 0.0\n"
     ]
    }
   ],
   "source": [
    "# print(datastructure['values'].loc[0][feature_to_save])\n",
    "for f in feature_to_save:\n",
    "    print(f\"{f}\")\n",
    "    print(f\"\\tMax: {float(datastructure['values'].loc[0][f].max())}\")\n",
    "    print(f\"\\tMin: {float(datastructure['values'].loc[0][f].min())}\")"
   ]
  },
  {
   "cell_type": "code",
   "execution_count": null,
   "metadata": {},
   "outputs": [],
   "source": []
  }
 ],
 "metadata": {
  "kernelspec": {
   "display_name": "base",
   "language": "python",
   "name": "python3"
  },
  "language_info": {
   "codemirror_mode": {
    "name": "ipython",
    "version": 3
   },
   "file_extension": ".py",
   "mimetype": "text/x-python",
   "name": "python",
   "nbconvert_exporter": "python",
   "pygments_lexer": "ipython3",
   "version": "3.9.13"
  }
 },
 "nbformat": 4,
 "nbformat_minor": 2
}
