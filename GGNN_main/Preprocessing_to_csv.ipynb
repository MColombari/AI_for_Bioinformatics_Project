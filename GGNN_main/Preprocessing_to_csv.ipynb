{
 "cells": [
  {
   "cell_type": "markdown",
   "metadata": {},
   "source": [
    "# Data Intersection"
   ]
  },
  {
   "cell_type": "markdown",
   "metadata": {},
   "source": [
    "In this first part we'll explore the dataset and extract a white list of only the \"case ID\" present in all data.\n",
    "The variable \"SAVE_FILE\" specify if we want to save the white list in a file."
   ]
  },
  {
   "cell_type": "code",
   "execution_count": 1,
   "metadata": {},
   "outputs": [],
   "source": [
    "WL_SAVE_FILE = False\n",
    "WL_OUTPUT_FOLDER = \".\"\n",
    "\n",
    "LIST_FILE_PATH_JSON = [\n",
    "    \"/work/h2020deciderficarra_shared/TCGA/OV/project_n16_data/JSON/CopyNumber.json\",\n",
    "    \"/work/h2020deciderficarra_shared/TCGA/OV/project_n16_data/JSON/GeneExpression.json\",\n",
    "    \"/work/h2020deciderficarra_shared/TCGA/OV/project_n16_data/JSON/Methylation.json\",\n",
    "    \"/work/h2020deciderficarra_shared/TCGA/OV/project_n16_data/JSON/OverallSurvival.json\"\n",
    "]"
   ]
  },
  {
   "cell_type": "code",
   "execution_count": 2,
   "metadata": {},
   "outputs": [],
   "source": [
    "import json"
   ]
  },
  {
   "cell_type": "code",
   "execution_count": 3,
   "metadata": {},
   "outputs": [
    {
     "name": "stdout",
     "output_type": "stream",
     "text": [
      "/work/h2020deciderficarra_shared/TCGA/OV/project_n16_data/JSON/CopyNumber.json: 567\n",
      "/work/h2020deciderficarra_shared/TCGA/OV/project_n16_data/JSON/GeneExpression.json: 416\n",
      "/work/h2020deciderficarra_shared/TCGA/OV/project_n16_data/JSON/Methylation.json: 569\n",
      "/work/h2020deciderficarra_shared/TCGA/OV/project_n16_data/JSON/OverallSurvival.json: 580\n",
      "Total intersection: 407\n"
     ]
    }
   ],
   "source": [
    "list_list_case_id = []\n",
    "\n",
    "# Iterate over each file.\n",
    "for file_name in LIST_FILE_PATH_JSON:\n",
    "    list_case_id = []\n",
    "    with open(file_name, 'r') as file:\n",
    "        file_parsed = json.load(file)\n",
    "        # Iterate over each case.\n",
    "        for case in file_parsed:\n",
    "            case_id = case[\"cases\"][0][\"case_id\"]\n",
    "            if not case_id in list_case_id:\n",
    "                list_case_id.append(case_id)\n",
    "    print(f\"{file_name}: {len(list_case_id)}\")\n",
    "    list_list_case_id.append(list_case_id)\n",
    "\n",
    "\n",
    "# Find intersection of all the case id.\n",
    "intersection_of_case_id = set.intersection(*map(set,list_list_case_id))\n",
    "\n",
    "if WL_SAVE_FILE:\n",
    "    with open(WL_OUTPUT_FOLDER + \"/\" + 'case_id_intersection_white_list.json', 'w', encoding='utf-8') as f:\n",
    "        json.dump(list(intersection_of_case_id), f, ensure_ascii=False, indent=4)\n",
    "\n",
    "print(f\"Total intersection: {len(intersection_of_case_id)}\")\n",
    "\n"
   ]
  },
  {
   "cell_type": "markdown",
   "metadata": {},
   "source": [
    "# Data Analisys and subset division"
   ]
  },
  {
   "cell_type": "markdown",
   "metadata": {},
   "source": [
    "In this second part we'll identify, based on the previous white list, which case have an attribute \"days_to_death\" or \"days_to_last_followup\", which define if the user died or was seen alive until the last followup.\n",
    "Then after an analisys of the two subset we'll try to balance them."
   ]
  },
  {
   "cell_type": "code",
   "execution_count": 4,
   "metadata": {},
   "outputs": [],
   "source": [
    "A_SAVE_FILE = False\n",
    "A_OUTPUT_FOLDER = \".\"\n",
    "\n",
    "OS_FOLDER_PATH = \"/work/h2020deciderficarra_shared/TCGA/OV/project_n16_data/OverallSurvival\"\n",
    "FILE_PATH_DICT = {\n",
    "    'os': \"/work/h2020deciderficarra_shared/TCGA/OV/project_n16_data/JSON/OverallSurvival.json\",\n",
    "    'gene': \"/work/h2020deciderficarra_shared/TCGA/OV/project_n16_data/JSON/GeneExpression.json\",\n",
    "    'methylation': \"/work/h2020deciderficarra_shared/TCGA/OV/project_n16_data/JSON/Methylation.json\",\n",
    "    'copy_number': \"/work/h2020deciderficarra_shared/TCGA/OV/project_n16_data/JSON/CopyNumber.json\"\n",
    "}"
   ]
  },
  {
   "cell_type": "code",
   "execution_count": 5,
   "metadata": {},
   "outputs": [
    {
     "name": "stderr",
     "output_type": "stream",
     "text": [
      "/homes/dlupo/.local/lib/python3.11/site-packages/pandas/core/arrays/masked.py:61: UserWarning: Pandas requires version '1.3.6' or newer of 'bottleneck' (version '1.3.5' currently installed).\n",
      "  from pandas.core import (\n"
     ]
    }
   ],
   "source": [
    "import pandas as pd\n",
    "from matplotlib import pyplot as plt\n",
    "from pathlib import Path\n",
    "import re\n",
    "import xml.etree.ElementTree as ET\n",
    "import seaborn as sns\n",
    "import numpy as np\n",
    "import json"
   ]
  },
  {
   "cell_type": "markdown",
   "metadata": {},
   "source": [
    "### Get file name corresponding to white list \"case ID\""
   ]
  },
  {
   "cell_type": "code",
   "execution_count": 6,
   "metadata": {},
   "outputs": [],
   "source": [
    "list_file_name_white_list = []\n",
    "\n",
    "save_file_to_id_relation = {}\n",
    "\n",
    "with open(FILE_PATH_DICT['os'], 'r') as file:\n",
    "    file_parsed = json.load(file)\n",
    "    for case in file_parsed:\n",
    "        case_id = case[\"cases\"][0][\"case_id\"]\n",
    "        if case_id in intersection_of_case_id:\n",
    "            save_file_to_id_relation[case['file_name']] = case_id\n",
    "            list_file_name_white_list.append(case['file_name'])"
   ]
  },
  {
   "cell_type": "markdown",
   "metadata": {},
   "source": [
    "### Read file in white list"
   ]
  },
  {
   "cell_type": "code",
   "execution_count": 7,
   "metadata": {},
   "outputs": [],
   "source": [
    "dirs = [x for x in Path(OS_FOLDER_PATH).iterdir() if x.is_dir()]\n",
    "\n",
    "dead_list = []\n",
    "\n",
    "dead_output_dict = {}\n",
    "#   {*case_id*: {os:int, files={type:str, name:str}}}\n",
    "\n",
    "dead_alive_dict = {}\n",
    "\n",
    "r = re.compile('.*.xml')\n",
    "\n",
    "for dir in dirs:\n",
    "    file_name_list = [x for x in dir.iterdir() if r.match(str(x))]\n",
    "\n",
    "    if len(file_name_list) == 1:\n",
    "        file_name = file_name_list[0]\n",
    "        relative_file_name = str(file_name).split(\"/\")[-1]\n",
    "        if relative_file_name in list_file_name_white_list:\n",
    "            # We found a file present in the white list.\n",
    "            tree = ET.parse(file_name)\n",
    "            root = tree.getroot()\n",
    "            namespaces = {\n",
    "                'admin': 'http://tcga.nci/bcr/xml/administration/2.7',\n",
    "                'ov': 'http://tcga.nci/bcr/xml/clinical/ov/2.7',\n",
    "                'clin_shared': \"http://tcga.nci/bcr/xml/clinical/shared/2.7\"\n",
    "            }\n",
    "            Days_to_death = root.findall('.//clin_shared:days_to_death',namespaces)[0].text\n",
    "            Days_to_last_followup = root.findall('.//clin_shared:days_to_last_followup',namespaces)[0].text\n",
    "\n",
    "            case_id = save_file_to_id_relation[relative_file_name]\n",
    "            if not Days_to_death == None:                   \n",
    "                # Dead.\n",
    "                dead_list.append(Days_to_death)\n",
    "                dead_output_dict[case_id] = {'os': int(Days_to_death), 'files':{}}\n",
    "                dead_alive_dict[case_id] = {'os': int(Days_to_death), 'os_status': '1:DECEASED', 'files':{}}\n",
    "            elif not Days_to_last_followup == None:\n",
    "                # Alive.\n",
    "                dead_alive_dict[case_id] = {'os': int(Days_to_last_followup), 'os_status': '0:LIVING', 'files':{}}\n",
    "    else:\n",
    "        raise Exception(\"Multiple \\'xml\\' file in the same folder.\")"
   ]
  },
  {
   "cell_type": "code",
   "execution_count": 8,
   "metadata": {},
   "outputs": [
    {
     "data": {
      "text/plain": [
       "405"
      ]
     },
     "execution_count": 8,
     "metadata": {},
     "output_type": "execute_result"
    }
   ],
   "source": [
    "len(dead_alive_dict)"
   ]
  },
  {
   "cell_type": "markdown",
   "metadata": {},
   "source": [
    "### Get all the file name relative to the case_id"
   ]
  },
  {
   "cell_type": "code",
   "execution_count": 9,
   "metadata": {},
   "outputs": [],
   "source": [
    "for k in FILE_PATH_DICT.keys():\n",
    "    with open(FILE_PATH_DICT[k], 'r') as file:\n",
    "        file_parsed = json.load(file)\n",
    "        for case in file_parsed:\n",
    "            case_id = case[\"cases\"][0][\"case_id\"]\n",
    "            if case_id in dead_alive_dict.keys():\n",
    "                dead_alive_dict[case_id]['files'][k] = case['file_name']"
   ]
  },
  {
   "cell_type": "code",
   "execution_count": 10,
   "metadata": {},
   "outputs": [],
   "source": [
    "import csv\n",
    "# Salva un CSV con case_id, os, os_status dal dizionario dead_alive_dict\n",
    "with open('case_id_os_status_ALL.csv', 'w', newline='') as csvfile:\n",
    "    writer = csv.writer(csvfile, quoting=csv.QUOTE_ALL)\n",
    "    writer.writerow(['case_id', 'OS', 'OS_STATUS'])\n",
    "    for case_id, info in dead_alive_dict.items():\n",
    "        writer.writerow([(case_id), info.get('os', ''), info.get('os_status', '')])"
   ]
  },
  {
   "cell_type": "markdown",
   "metadata": {},
   "source": [
    "### Save the data structure"
   ]
  },
  {
   "cell_type": "code",
   "execution_count": null,
   "metadata": {},
   "outputs": [],
   "source": [
    "with open(A_OUTPUT_FOLDER + \"/\" + 'case_id_and_structure_aALL.json', 'w', encoding='utf-8') as f:\n",
    "    json.dump(dead_alive_dict, f, ensure_ascii=False, indent=4)"
   ]
  },
  {
   "cell_type": "code",
   "execution_count": 10,
   "metadata": {},
   "outputs": [],
   "source": [
    "dead = pd.Series([int(d) for d in dead_list])"
   ]
  },
  {
   "cell_type": "code",
   "execution_count": 11,
   "metadata": {},
   "outputs": [
    {
     "name": "stdout",
     "output_type": "stream",
     "text": [
      "226\n"
     ]
    }
   ],
   "source": [
    "print(len(dead_output_dict.keys()))"
   ]
  },
  {
   "cell_type": "markdown",
   "metadata": {},
   "source": [
    "### Graph the subset"
   ]
  },
  {
   "cell_type": "code",
   "execution_count": 12,
   "metadata": {},
   "outputs": [
    {
     "data": {
      "image/png": "[encoded data removed]",
      "text/plain": [
       "<Figure size 1000x600 with 1 Axes>"
      ]
     },
     "metadata": {},
     "output_type": "display_data"
    }
   ],
   "source": [
    "plt.figure(figsize=(10, 6))\n",
    "sns.histplot(dead, bins=50, kde=True, color=\"red\")\n",
    "plt.title(\"Distribution of \\'Days to Death\\'\", fontsize=16)\n",
    "plt.xlabel(\"Days\", fontsize=14)\n",
    "plt.ylabel(\"Ammount per day\", fontsize=14)\n",
    "plt.grid(axis='y', linestyle='--', alpha=0.7)\n",
    "plt.show()"
   ]
  },
  {
   "cell_type": "code",
   "execution_count": 13,
   "metadata": {},
   "outputs": [
    {
     "name": "stdout",
     "output_type": "stream",
     "text": [
      "Mean: 1092.93\n",
      "Median: 1032.5\n",
      "Standard Deviation: 753.95\n"
     ]
    }
   ],
   "source": [
    "mean_value = np.mean(dead)\n",
    "median_value = np.median(dead)\n",
    "std_deviation = np.std(dead)\n",
    "\n",
    "center_curve = int(median_value)\n",
    " \n",
    "print(f\"Mean: {mean_value:.2f}\")\n",
    "print(f\"Median: {median_value}\")\n",
    "print(f\"Standard Deviation: {std_deviation:.2f}\")"
   ]
  },
  {
   "cell_type": "code",
   "execution_count": 16,
   "metadata": {},
   "outputs": [],
   "source": [
    "# Get all file name:\n",
    "file_name = [dead_output_dict[k]['files']['os'] for k in dead_output_dict.keys()]"
   ]
  },
  {
   "cell_type": "code",
   "execution_count": 4,
   "metadata": {},
   "outputs": [
    {
     "name": "stdout",
     "output_type": "stream",
     "text": [
      "0.5949102938175201\n"
     ]
    }
   ],
   "source": [
    "import numpy as np\n",
    "a = [0.6070706844329834, 0.5747475028038025, 0.5242424011230469, 0.5525252819061279, 0.5202020406723022, 0.6205852627754211, 0.6205852627754211, 0.59375, 0.7114025950431824, 0.6239919066429138]\n",
    "print(np.mean(a))"
   ]
  }
 ],
 "metadata": {
  "kernelspec": {
   "display_name": "base",
   "language": "python",
   "name": "python3"
  },
  "language_info": {
   "codemirror_mode": {
    "name": "ipython",
    "version": 3
   },
   "file_extension": ".py",
   "mimetype": "text/x-python",
   "name": "python",
   "nbconvert_exporter": "python",
   "pygments_lexer": "ipython3",
   "version": "3.11.5"
  }
 },
 "nbformat": 4,
 "nbformat_minor": 2
}
