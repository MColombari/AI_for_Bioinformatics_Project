{
 "cells": [
  {
   "cell_type": "code",
   "execution_count": null,
   "metadata": {},
   "outputs": [],
   "source": [
    "from models import simple_GCN\n",
    "import torch\n",
    "from Load_and_Process_Data import LPD\n",
    "from torch_geometric.loader import DataLoader\n",
    "from collections import OrderedDict\n",
    "from sklearn.metrics import accuracy_score\n",
    "import numpy as np\n",
    "import matplotlib.pyplot as plt\n",
    "import numpy as np\n",
    "import math"
   ]
  },
  {
   "cell_type": "code",
   "execution_count": null,
   "metadata": {},
   "outputs": [],
   "source": [
    "FILE_PATH = \"\""
   ]
  },
  {
   "cell_type": "code",
   "execution_count": null,
   "metadata": {},
   "outputs": [],
   "source": [
    "with open(FILE_PATH, 'r') as file:\n",
    "    string_file = file.read()\n",
    "\n",
    "for dataset in string_file.split('Target dataset: GENE_EXP_')[1:]:\n",
    "    dataset_name = dataset.plit('\\n')[0]\n",
    "    for fold in dataset.split('FOLD '):\n",
    "        fold_number = int(fold.split('\\n')[0])"
   ]
  }
 ],
 "metadata": {
  "language_info": {
   "name": "python"
  }
 },
 "nbformat": 4,
 "nbformat_minor": 2
}
