{
 "cells": [
  {
   "cell_type": "code",
   "execution_count": 11,
   "metadata": {},
   "outputs": [
    {
     "name": "stdout",
     "output_type": "stream",
     "text": [
      "         gene1  gene2  minResCount\n",
      "0            2     C2            3\n",
      "1            2     C3            8\n",
      "2            2    C4B            8\n",
      "3            2  C4BPA            2\n",
      "4            2     C5            8\n",
      "...        ...    ...          ...\n",
      "1322480  ZWINT  ZWINT         3828\n",
      "1322481   ZXDA   ZXDA            5\n",
      "1322482   ZXDA   ZXDC            5\n",
      "1322483   ZXDC   ZXDC            5\n",
      "1322484    ZYX    ZYX            6\n",
      "\n",
      "[1322485 rows x 3 columns]\n"
     ]
    }
   ],
   "source": [
    "import pandas as pd\n",
    "import re\n",
    "\n",
    "file = pd.read_csv('ggLink.csv', sep='\\t')\n",
    "print(file[['gene1','gene2','minResCount']])"
   ]
  },
  {
   "cell_type": "code",
   "execution_count": 16,
   "metadata": {},
   "outputs": [],
   "source": [
    "def remove_version(x):\n",
    "    if '.' in x:\n",
    "        return x.split('.')[0]\n",
    "    return x\n",
    "\n",
    "gtf_file_path = '/work/h2020deciderficarra_shared/TCGA/OV/project_n16_data/gencode.v47.annotation.gtf'\n",
    "gtf = pd.read_csv(gtf_file_path, sep=\"\\t\", header=None, comment='#')\n",
    "gtf.columns = ['seqname', 'source', 'feature', 'start', 'end', 'score', 'strand', 'frame', 'attribute']\n",
    "\n",
    "parameters = ['gene_id', 'gene_type', 'gene_name']\n",
    "for p in parameters:\n",
    "    gtf[p] = gtf['attribute'].apply(lambda x: re.findall(rf'{p} \"([^\"]*)\"', x)[0] if rf'{p} \"' in x else np.nan)\n",
    "\n",
    "gtf.drop('attribute', axis=1, inplace=True)\n",
    "\n",
    "gtf['gene_id'] = gtf['gene_id'].apply(remove_version)\n",
    "\n",
    "gtf_pc = gtf[gtf['gene_type'] == 'protein_coding']\n",
    "\n",
    "# Protein coding set\n",
    "pc_set = set(gtf_pc['gene_id'].to_list())\n"
   ]
  },
  {
   "cell_type": "code",
   "execution_count": 30,
   "metadata": {},
   "outputs": [
    {
     "data": {
      "text/plain": [
       "seqname                 chr1\n",
       "source                HAVANA\n",
       "feature                 gene\n",
       "start                  65419\n",
       "end                    71585\n",
       "score                      .\n",
       "strand                     +\n",
       "frame                      .\n",
       "gene_id      ENSG00000186092\n",
       "gene_type     protein_coding\n",
       "gene_name              OR4F5\n",
       "Name: 2486, dtype: object"
      ]
     },
     "execution_count": 30,
     "metadata": {},
     "output_type": "execute_result"
    }
   ],
   "source": [
    "\n",
    "gtf_pc[gtf_pc['gene_name'] == 'OR4F5'].iloc[0]"
   ]
  },
  {
   "cell_type": "code",
   "execution_count": null,
   "metadata": {},
   "outputs": [],
   "source": []
  }
 ],
 "metadata": {
  "kernelspec": {
   "display_name": "base",
   "language": "python",
   "name": "python3"
  },
  "language_info": {
   "codemirror_mode": {
    "name": "ipython",
    "version": 3
   },
   "file_extension": ".py",
   "mimetype": "text/x-python",
   "name": "python",
   "nbconvert_exporter": "python",
   "pygments_lexer": "ipython3",
   "version": "3.9.13"
  }
 },
 "nbformat": 4,
 "nbformat_minor": 2
}
